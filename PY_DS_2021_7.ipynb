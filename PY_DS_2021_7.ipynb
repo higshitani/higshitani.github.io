{
  "nbformat": 4,
  "nbformat_minor": 0,
  "metadata": {
    "colab": {
      "name": "PY-DS-2021-7",
      "provenance": [],
      "collapsed_sections": [],
      "include_colab_link": true
    },
    "kernelspec": {
      "name": "python3",
      "display_name": "Python 3"
    }
  },
  "cells": [
    {
      "cell_type": "markdown",
      "metadata": {
        "id": "view-in-github",
        "colab_type": "text"
      },
      "source": [
        "<a href=\"https://colab.research.google.com/github/higshitani/higshitani.github.io/blob/main/PY_DS_2021_7.ipynb\" target=\"_parent\"><img src=\"https://colab.research.google.com/assets/colab-badge.svg\" alt=\"Open In Colab\"/></a>"
      ]
    },
    {
      "cell_type": "markdown",
      "metadata": {
        "id": "CAqqoIp4zBM8"
      },
      "source": [
        "#「Pythonによるデータ科学入門」 DAY 7 のスライド中のコード"
      ]
    },
    {
      "cell_type": "code",
      "metadata": {
        "id": "kSu6KgYVZECm"
      },
      "source": [
        "# coding: utf-8\n",
        "import math\n",
        "import numpy as np\n",
        "from sklearn.linear_model import LogisticRegression\n",
        "\n",
        "def prob1(x,beta,mu):\n",
        "    return 1.0/(1.0 + math.exp(-beta*(x-mu)))\n",
        "\n",
        "data = np.loadtxt(\"sample-score.txt\")\n",
        "\n",
        "x = np.array([data[:,0]]).T\n",
        "y = data[:,1]\n",
        "\n",
        "lr = LogisticRegression()\n",
        "res = lr.fit(x,y)\n",
        "\n",
        "beta = lr.coef_[0,0]\n",
        "mu = -lr.intercept_[0]/beta\n",
        "print('beta=',beta)\n",
        "print('mu=',mu)\n",
        "\n",
        "logL=0\n",
        "for x,y in data:\n",
        "    if y==1:\n",
        "        logL += math.log(prob1(x,beta,mu))\n",
        "    elif y==0:\n",
        "        logL += math.log(1-prob1(x,beta,mu))\n",
        "\n",
        "print(\"logL=\",logL)\n"
      ],
      "execution_count": null,
      "outputs": []
    },
    {
      "cell_type": "code",
      "metadata": {
        "id": "O_pZVDPoyVpv"
      },
      "source": [
        "# coding: utf-8\n",
        "import random\n",
        "import math\n",
        "\n",
        "N=1000000\n",
        "cnt=0\n",
        "for _ in range(N):\n",
        "    x = random.random()\n",
        "    y = random.random()\n",
        "    z = random.random()\n",
        "    if x**2 + y**2 + z**2 < 1:\n",
        "        cnt = cnt + 1\n",
        "    else:\n",
        "        cnt = cnt + 0\n",
        "\n",
        "v = cnt/N*8\n",
        "v0 = 4*math.pi/3\n",
        "print('v=',v,v0)"
      ],
      "execution_count": null,
      "outputs": []
    },
    {
      "cell_type": "code",
      "metadata": {
        "id": "fAFCBYN3ylE3"
      },
      "source": [
        "# coding: utf-8\n",
        "\n",
        "import numpy as np\n",
        "import math\n",
        "\n",
        "d = 5\n",
        "\n",
        "N=100000\n",
        "cnt=0\n",
        "for _ in range(N):\n",
        "    x = np.random.rand(d)\n",
        "    if np.linalg.norm(x) < 1:\n",
        "        cnt += 1\n",
        "\n",
        "v = cnt/N * 2**d\n",
        "\n",
        "v0 = math.pi**(d/2)/math.gamma(d/2+1)\n",
        "\n",
        "print('v=',v,v0)\n"
      ],
      "execution_count": null,
      "outputs": []
    },
    {
      "cell_type": "code",
      "metadata": {
        "id": "ui1X87OFyqiI",
        "colab": {
          "base_uri": "https://localhost:8080/",
          "height": 279
        },
        "outputId": "d1045dfb-d0b0-44fa-d255-3b35f575cc6d"
      },
      "source": [
        "# coding: utf-8                                                                                                                                                                            \n",
        "import random\n",
        "import numpy as np\n",
        "import matplotlib.pyplot as plt\n",
        "\n",
        "ntrial = 10000\n",
        "\n",
        "dice10=[ ]\n",
        "\n",
        "for _ in range(ntrial):\n",
        "    s10=0\n",
        "    for _ in range(10):\n",
        "        s10 = s10 + random.randint(1,6)\n",
        "    dice10.append(s10)\n",
        "\n",
        "bins = np.linspace(0, 100, 101)\n",
        "\n",
        "plt.hist(dice10, bins, label=\"n=10\")\n",
        "plt.xlabel('sum')\n",
        "plt.ylabel('Frequency')\n",
        "plt.legend(loc='upper right')\n",
        "plt.xlim(0,60)\n",
        "plt.grid(True)\n",
        "plt.show()"
      ],
      "execution_count": null,
      "outputs": [
        {
          "output_type": "display_data",
          "data": {
            "image/png": "[encoded data removed]",
            "text/plain": [
              "<Figure size 432x288 with 1 Axes>"
            ]
          },
          "metadata": {
            "needs_background": "light"
          }
        }
      ]
    },
    {
      "cell_type": "code",
      "metadata": {
        "id": "fZzCJj-2yuS4",
        "colab": {
          "base_uri": "https://localhost:8080/"
        },
        "outputId": "1cc56148-f61f-4a7a-8664-9a6e30e25f57"
      },
      "source": [
        "# coding: utf-8                                                                                                                                          \n",
        "import random\n",
        "\n",
        "ntrial=10000\n",
        "\n",
        "n_you_win=0\n",
        "for _ in range(ntrial):\n",
        "    prize = random.choice(['A','B','C'])\n",
        "    you_first_chose = random.choice(['A','B','C'])\n",
        "    doors={'A','B','C'}\n",
        "    doors.discard(prize)\n",
        "    doors.discard(you_first_chose)\n",
        "    monty_opened = random.choice(list(doors))\n",
        "    doors={'A','B','C'}\n",
        "    doors.discard(monty_opened)\n",
        "    doors.discard(you_first_chose)\n",
        "    you_finally_chose = doors.pop()\n",
        "    if you_finally_chose==prize:\n",
        "        n_you_win += 1\n",
        "\n",
        "print(\"p=\",n_you_win/ntrial)\n"
      ],
      "execution_count": null,
      "outputs": [
        {
          "output_type": "stream",
          "name": "stdout",
          "text": [
            "p= 0.6658\n"
          ]
        }
      ]
    },
    {
      "cell_type": "code",
      "metadata": {
        "colab": {
          "base_uri": "https://localhost:8080/",
          "height": 383
        },
        "id": "oW3jnjk1k1SG",
        "outputId": "2ceebc73-1e3d-44d7-aaa6-74176ebcf2a5"
      },
      "source": [
        "# coding: utf-8\n",
        "import numpy as np\n",
        "from scipy.stats import poisson\n",
        "import matplotlib.pyplot as plt\n",
        "\n",
        "# 乱数発生\n",
        "X = poisson.rvs(5.0, size=100)\n",
        "print('data=',X)\n",
        "\n",
        "# 最尤推定\n",
        "N = X.shape[0]\n",
        "lam = sum(X)/N\n",
        "print('lambda=',lam)\n",
        "\n",
        "x = np.arange(0, poisson.ppf(0.99, lam)+1)\n",
        "\n",
        "plt.hist(X,density=True,color=(0.2, 0.3, 0.9))\n",
        "plt.plot(x,poisson.pmf(x,lam),'-',color=(1.0,0,0.0),linewidth=1.0)\n",
        "plt.xlim(0,max(x)+1)\n",
        "plt.xlabel('k')\n",
        "plt.ylabel('P')\n",
        "plt.grid(True)\n",
        "plt.show()\n"
      ],
      "execution_count": null,
      "outputs": [
        {
          "output_type": "stream",
          "name": "stdout",
          "text": [
            "data= [ 5  5  4  4  5  5  7  1  5  8  5  5  5  2  7  1  6  6  5  2  7  7  8  4\n",
            "  7  3  7  5  5  3  3 15  4  6  4  8  1  7  8  4  5  3  4  3  7  5  4  5\n",
            "  2  7  3  6  3  4  7  5  5  6  6  6  5  3  5  6  7  5  6  6  8 10  2  8\n",
            "  7  4  3 10  6  2  7  5  6  8  4  6  7  3  3  8  5  7  4  5 10  4  7  5\n",
            "  3  6  5  5]\n",
            "lambda= 5.31\n"
          ]
        },
        {
          "output_type": "display_data",
          "data": {
            "image/png": "[encoded data removed]",
            "text/plain": [
              "<Figure size 432x288 with 1 Axes>"
            ]
          },
          "metadata": {
            "needs_background": "light"
          }
        }
      ]
    },
    {
      "cell_type": "code",
      "metadata": {
        "id": "qrqrhVQ-yywa"
      },
      "source": [
        "# coding: utf-8                                                                                                                                          \n",
        "import random\n",
        "\n",
        "mu0=2.0\n",
        "var0=mu0**2\n",
        "n=5\n",
        "ntrial=1000\n",
        "for _ in range(ntrial):\n",
        "    X=[]\n",
        "    for _ in range(n):\n",
        "        X.append(random.expovariate(1/mu0))\n",
        "    mu=sum(X)/n\n",
        "    s2=0\n",
        "    for x in X:\n",
        "        s2 += (x-mu)**2\n",
        "    u2=s2/(n-1)"
      ],
      "execution_count": null,
      "outputs": []
    }
  ]
}