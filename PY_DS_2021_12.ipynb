{
  "nbformat": 4,
  "nbformat_minor": 0,
  "metadata": {
    "colab": {
      "name": "PY-DS-2021-12.ipynb",
      "provenance": [],
      "collapsed_sections": [],
      "include_colab_link": true
    },
    "kernelspec": {
      "name": "python3",
      "display_name": "Python 3"
    },
    "accelerator": "GPU"
  },
  "cells": [
    {
      "cell_type": "markdown",
      "metadata": {
        "id": "view-in-github",
        "colab_type": "text"
      },
      "source": [
        "<a href=\"https://colab.research.google.com/github/higshitani/higshitani.github.io/blob/main/PY_DS_2021_12.ipynb\" target=\"_parent\"><img src=\"https://colab.research.google.com/assets/colab-badge.svg\" alt=\"Open In Colab\"/></a>"
      ]
    },
    {
      "cell_type": "markdown",
      "metadata": {
        "id": "Z2Ud-z8sABFo"
      },
      "source": [
        "# 「Pythonによるデータ科学入門」 DAY 12のスライド中のコード"
      ]
    },
    {
      "cell_type": "code",
      "metadata": {
        "id": "kidl64cs_-dL",
        "colab": {
          "base_uri": "https://localhost:8080/",
          "height": 282
        },
        "outputId": "69d26bc8-b4d6-40e5-c89d-6c88d679c3bb"
      },
      "source": [
        "# coding: utf-8\n",
        "import sys\n",
        "import numpy as np\n",
        "import matplotlib.pyplot as plt\n",
        "from scipy.cluster.hierarchy import linkage\n",
        "\n",
        "def rewrite_id(id, link, group, step, n):\n",
        "    i = int(link[step,0])\n",
        "    j = int(link[step,1])\n",
        "    if i<n:\n",
        "        group[i] = id\n",
        "    else:\n",
        "        rewrite_id(id, link, group, i-n, n)\n",
        "\n",
        "    if j<n:\n",
        "        group[j] = id\n",
        "    else:\n",
        "        rewrite_id(id, link, group, j-n, n)\n",
        "\n",
        "x = np.loadtxt(\"geese-3d-pos.txt\",delimiter=\" \")\n",
        "N = x.shape[0]\n",
        "\n",
        "# クラスタリング\n",
        "linked = linkage(x,'single')\n",
        "n = x.shape[0]\n",
        "threshold=7\n",
        "group=np.empty(n,dtype='int32')\n",
        "step=0\n",
        "while True:\n",
        "    if step>= n-2:\n",
        "        break\n",
        "    dist = linked[step,2]   \n",
        "    if dist>threshold:\n",
        "        break\n",
        "    rewrite_id(step+n, linked, group, step, n)\n",
        "    step=step+1\n",
        "\n",
        "# 結果のプロット\n",
        "cmap = plt.get_cmap(\"tab20\")\n",
        "cids = list(set(group))\n",
        "\n",
        "print('cluster ids:',cids)\n",
        "\n",
        "for i in range(x.shape[0]):\n",
        "    ell = cids.index(group[i]) % 20\n",
        "    plt.scatter(x[i,0], x[i,1], color=cmap(ell))\n",
        "plt.grid(True)\n",
        "plt.show()"
      ],
      "execution_count": null,
      "outputs": [
        {
          "output_type": "stream",
          "name": "stdout",
          "text": [
            "cluster ids: [0, 1, 163, 164, 165, 135, 171, 172, 173, 174, 175, 176, 154]\n"
          ]
        },
        {
          "output_type": "display_data",
          "data": {
            "image/png": "[encoded data removed]",
            "text/plain": [
              "<Figure size 432x288 with 1 Axes>"
            ]
          },
          "metadata": {
            "needs_background": "light"
          }
        }
      ]
    },
    {
      "cell_type": "code",
      "source": [
        "# coding: utf-8\n",
        "import numpy as np\n",
        "import random\n",
        "import matplotlib.pyplot as plt\n",
        "\n",
        "def F(a,x):\n",
        "    s = 0\n",
        "    m = len(x)\n",
        "    for j in range(m):\n",
        "        s += a[j]*x[j]\n",
        "    if s>0:\n",
        "        return 1\n",
        "    else:\n",
        "        return 0\n",
        "\n",
        "data = np.loadtxt(\"sample-2d-2c.txt\")\n",
        "ndata = data.shape[0]\n",
        "\n",
        "A = np.array([0,1,-1])\n",
        "X = np.hstack([data[:,0:2], np.array([np.ones(ndata)]).T])\n",
        "Y = data[:,2]\n",
        "\n",
        "# training\n",
        "EPSILON=1.0\n",
        "cnt=0\n",
        "while True:\n",
        "    i = random.randint(0,ndata-1)\n",
        "    x = X[i,:]\n",
        "    y = Y[i]\n",
        "    for k in range(len(A)):\n",
        "        A[k] += EPSILON * (y - F(A,x))*x[k]\n",
        "    cnt += 1\n",
        "    if cnt>100:\n",
        "        break\n",
        "\n",
        "# validation\n",
        "errcnt=0\n",
        "for i in range(ndata):\n",
        "    x = X[i,:]\n",
        "    y = Y[i]\n",
        "    if F(A,x)!=y:\n",
        "        errcnt += 1\n",
        "\n",
        "print('ERROR RATE=',errcnt/ndata)\n",
        "\n",
        "# plot data\n",
        "cmap = plt.get_cmap(\"tab10\")\n",
        "for c in range(2):\n",
        "    plt.scatter(data[Y==c,0], data[Y==c,1], color=cmap(c))\n",
        "# draw boundary\n",
        "x0,x1 = -3,3\n",
        "y0,y1 = (-A[0]*x0-A[2])/A[1], (-A[0]*x1-A[2])/A[1]\n",
        "plt.plot([x0,x1],[y0,y1],'--',color='red')\n",
        "plt.grid(True)\n",
        "plt.show()"
      ],
      "metadata": {
        "colab": {
          "base_uri": "https://localhost:8080/",
          "height": 282
        },
        "id": "BCp5xBTrIq7a",
        "outputId": "24fc8a59-4d1f-4e5d-8cd0-4a1cc5ae5ef9"
      },
      "execution_count": null,
      "outputs": [
        {
          "output_type": "stream",
          "name": "stdout",
          "text": [
            "ERROR RATE= 0.0\n"
          ]
        },
        {
          "output_type": "display_data",
          "data": {
            "image/png": "[encoded data removed]",
            "text/plain": [
              "<Figure size 432x288 with 1 Axes>"
            ]
          },
          "metadata": {
            "needs_background": "light"
          }
        }
      ]
    },
    {
      "cell_type": "code",
      "metadata": {
        "id": "PYf5pNOAANuL",
        "colab": {
          "base_uri": "https://localhost:8080/"
        },
        "outputId": "040b4ae2-c467-409e-f024-2cf9fd425e95"
      },
      "source": [
        "# coding: utf-8\n",
        "import numpy as np\n",
        "import random\n",
        "\n",
        "def F(a,x):\n",
        "    s = 0\n",
        "    m = len(x)\n",
        "    for j in range(m):\n",
        "        s += a[j]*x[j]\n",
        "    if s>0:\n",
        "        return 1\n",
        "    else:\n",
        "        return 0\n",
        "\n",
        "data = np.loadtxt(\"sample-4d-2c.txt\")\n",
        "ndata = data.shape[0]\n",
        "\n",
        "A = np.zeros(5)\n",
        "X = np.hstack([data[:,0:4], np.array([np.ones(ndata)]).T])\n",
        "Y = data[:,4]\n",
        "\n",
        "# training\n",
        "EPSILON=1.0\n",
        "cnt=0\n",
        "while True:\n",
        "    i = random.randint(0,ndata-1)\n",
        "    x = X[i,:]\n",
        "    y = Y[i]\n",
        "    for k in range(len(A)):\n",
        "        A[k] += EPSILON * (y - F(A,x))*x[k]\n",
        "    cnt += 1\n",
        "    if cnt>3000:\n",
        "        break\n",
        "\n",
        "# validation\n",
        "errcnt=0\n",
        "for i in range(ndata):\n",
        "    x = X[i,:]\n",
        "    y = Y[i]\n",
        "    if F(A,x)!=y:\n",
        "        errcnt += 1\n",
        "print('ERROR RATE=',errcnt/ndata)  "
      ],
      "execution_count": null,
      "outputs": [
        {
          "output_type": "stream",
          "name": "stdout",
          "text": [
            "ERROR RATE= 0.0\n"
          ]
        }
      ]
    },
    {
      "cell_type": "code",
      "metadata": {
        "id": "VTI-8xW4ARxe",
        "colab": {
          "base_uri": "https://localhost:8080/"
        },
        "outputId": "12f2b7b9-7124-4d46-ec81-1f3b6c8cc362"
      },
      "source": [
        "# coding: utf-8\n",
        "from sklearn.linear_model import Perceptron\n",
        "import numpy as np\n",
        "\n",
        "data = np.loadtxt(\"sample-4d-2c.txt\")\n",
        "ndata = data.shape[0]\n",
        "\n",
        "X = np.hstack([data[:,0:4], \\\n",
        "               np.array([np.ones(ndata)]).T])\n",
        "Y = data[:,4]\n",
        "\n",
        "pcpt = Perceptron(eta0=1.0)\n",
        "\n",
        "# training\n",
        "pcpt.fit(X,Y)\n",
        "\n",
        "# validation\n",
        "y = pcpt.predict(X)\n",
        "errcnt=0\n",
        "for i in range(ndata):\n",
        "    if Y[i]!=y[i]:\n",
        "        errcnt += 1\n",
        "\n",
        "print('ERROR RATE=',errcnt/ndata)\n"
      ],
      "execution_count": null,
      "outputs": [
        {
          "output_type": "stream",
          "name": "stdout",
          "text": [
            "ERROR RATE= 0.0\n"
          ]
        }
      ]
    },
    {
      "cell_type": "code",
      "metadata": {
        "id": "zR1VvQX3AWtC",
        "colab": {
          "base_uri": "https://localhost:8080/"
        },
        "outputId": "6841ce93-29e3-4203-fba5-38ceba5d985e"
      },
      "source": [
        "from keras.models import Sequential\n",
        "from keras.layers import Dense, Activation\n",
        "from keras import optimizers\n",
        "import numpy as np\n",
        "import matplotlib.pyplot as plt\n",
        "\n",
        "x_train=np.random.uniform(-np.pi,np.pi,1000)\n",
        "y_train=(np.cos(x_train) + 1)/2\n",
        "\n",
        "x_test=np.random.uniform(-np.pi,np.pi,100)\n",
        "y_test=(np.cos(x_test) + 1)/2\n",
        "\n",
        "model = Sequential()\n",
        "model.add(Dense(10, input_dim=1, activation='sigmoid', use_bias=True))\n",
        "model.add(Dense(1, use_bias=True, activation='sigmoid'))\n",
        "\n",
        "model.compile(loss='mean_squared_error', optimizer='Adam')\n",
        "\n",
        "model.fit(x_train,y_train,epochs=100, batch_size=10, verbose=1,validation_data=(x_test, y_test))\n",
        "\n",
        "result = model.predict(x_test)\n",
        "\n",
        "y_predict = result[:,0]\n",
        "\n",
        "plt.scatter(x_test, y_test)\n",
        "plt.scatter(x_test, y_predict)\n",
        "plt.show()"
      ],
      "execution_count": null,
      "outputs": [
        {
          "output_type": "stream",
          "name": "stdout",
          "text": [
            "Epoch 1/100\n",
            "100/100 [==============================] - 1s 4ms/step - loss: 0.1258 - val_loss: 0.1328\n",
            "Epoch 2/100\n",
            "100/100 [==============================] - 0s 3ms/step - loss: 0.1236 - val_loss: 0.1308\n",
            "Epoch 3/100\n",
            "100/100 [==============================] - 0s 3ms/step - loss: 0.1223 - val_loss: 0.1289\n",
            "Epoch 4/100\n",
            "100/100 [==============================] - 0s 3ms/step - loss: 0.1214 - val_loss: 0.1275\n",
            "Epoch 5/100\n",
            "100/100 [==============================] - 0s 4ms/step - loss: 0.1207 - val_loss: 0.1261\n",
            "Epoch 6/100\n",
            "100/100 [==============================] - 0s 3ms/step - loss: 0.1197 - val_loss: 0.1259\n",
            "Epoch 7/100\n",
            "100/100 [==============================] - 0s 3ms/step - loss: 0.1190 - val_loss: 0.1240\n",
            "Epoch 8/100\n",
            "100/100 [==============================] - 0s 3ms/step - loss: 0.1179 - val_loss: 0.1236\n",
            "Epoch 9/100\n",
            "100/100 [==============================] - 0s 3ms/step - loss: 0.1167 - val_loss: 0.1220\n",
            "Epoch 10/100\n",
            "100/100 [==============================] - 0s 3ms/step - loss: 0.1155 - val_loss: 0.1203\n",
            "Epoch 11/100\n",
            "100/100 [==============================] - 0s 3ms/step - loss: 0.1140 - val_loss: 0.1188\n",
            "Epoch 12/100\n",
            "100/100 [==============================] - 0s 3ms/step - loss: 0.1122 - val_loss: 0.1169\n",
            "Epoch 13/100\n",
            "100/100 [==============================] - 0s 3ms/step - loss: 0.1102 - val_loss: 0.1149\n",
            "Epoch 14/100\n",
            "100/100 [==============================] - 0s 3ms/step - loss: 0.1081 - val_loss: 0.1126\n",
            "Epoch 15/100\n",
            "100/100 [==============================] - 0s 3ms/step - loss: 0.1058 - val_loss: 0.1102\n",
            "Epoch 16/100\n",
            "100/100 [==============================] - 0s 3ms/step - loss: 0.1032 - val_loss: 0.1075\n",
            "Epoch 17/100\n",
            "100/100 [==============================] - 0s 3ms/step - loss: 0.1002 - val_loss: 0.1047\n",
            "Epoch 18/100\n",
            "100/100 [==============================] - 0s 3ms/step - loss: 0.0971 - val_loss: 0.1011\n",
            "Epoch 19/100\n",
            "100/100 [==============================] - 0s 3ms/step - loss: 0.0939 - val_loss: 0.0971\n",
            "Epoch 20/100\n",
            "100/100 [==============================] - 0s 3ms/step - loss: 0.0903 - val_loss: 0.0938\n",
            "Epoch 21/100\n",
            "100/100 [==============================] - 0s 3ms/step - loss: 0.0866 - val_loss: 0.0902\n",
            "Epoch 22/100\n",
            "100/100 [==============================] - 0s 3ms/step - loss: 0.0830 - val_loss: 0.0865\n",
            "Epoch 23/100\n",
            "100/100 [==============================] - 0s 3ms/step - loss: 0.0791 - val_loss: 0.0822\n",
            "Epoch 24/100\n",
            "100/100 [==============================] - 0s 3ms/step - loss: 0.0753 - val_loss: 0.0781\n",
            "Epoch 25/100\n",
            "100/100 [==============================] - 0s 3ms/step - loss: 0.0714 - val_loss: 0.0743\n",
            "Epoch 26/100\n",
            "100/100 [==============================] - 0s 3ms/step - loss: 0.0675 - val_loss: 0.0704\n",
            "Epoch 27/100\n",
            "100/100 [==============================] - 0s 3ms/step - loss: 0.0638 - val_loss: 0.0663\n",
            "Epoch 28/100\n",
            "100/100 [==============================] - 0s 3ms/step - loss: 0.0600 - val_loss: 0.0623\n",
            "Epoch 29/100\n",
            "100/100 [==============================] - 0s 3ms/step - loss: 0.0563 - val_loss: 0.0585\n",
            "Epoch 30/100\n",
            "100/100 [==============================] - 0s 3ms/step - loss: 0.0527 - val_loss: 0.0545\n",
            "Epoch 31/100\n",
            "100/100 [==============================] - 0s 3ms/step - loss: 0.0492 - val_loss: 0.0509\n",
            "Epoch 32/100\n",
            "100/100 [==============================] - 0s 3ms/step - loss: 0.0458 - val_loss: 0.0474\n",
            "Epoch 33/100\n",
            "100/100 [==============================] - 0s 3ms/step - loss: 0.0426 - val_loss: 0.0443\n",
            "Epoch 34/100\n",
            "100/100 [==============================] - 0s 3ms/step - loss: 0.0395 - val_loss: 0.0412\n",
            "Epoch 35/100\n",
            "100/100 [==============================] - 0s 3ms/step - loss: 0.0366 - val_loss: 0.0381\n",
            "Epoch 36/100\n",
            "100/100 [==============================] - 0s 3ms/step - loss: 0.0338 - val_loss: 0.0348\n",
            "Epoch 37/100\n",
            "100/100 [==============================] - 0s 3ms/step - loss: 0.0312 - val_loss: 0.0322\n",
            "Epoch 38/100\n",
            "100/100 [==============================] - 0s 3ms/step - loss: 0.0287 - val_loss: 0.0298\n",
            "Epoch 39/100\n",
            "100/100 [==============================] - 0s 3ms/step - loss: 0.0265 - val_loss: 0.0276\n",
            "Epoch 40/100\n",
            "100/100 [==============================] - 0s 3ms/step - loss: 0.0243 - val_loss: 0.0253\n",
            "Epoch 41/100\n",
            "100/100 [==============================] - 0s 3ms/step - loss: 0.0224 - val_loss: 0.0232\n",
            "Epoch 42/100\n",
            "100/100 [==============================] - 0s 3ms/step - loss: 0.0206 - val_loss: 0.0214\n",
            "Epoch 43/100\n",
            "100/100 [==============================] - 0s 3ms/step - loss: 0.0189 - val_loss: 0.0198\n",
            "Epoch 44/100\n",
            "100/100 [==============================] - 0s 3ms/step - loss: 0.0174 - val_loss: 0.0180\n",
            "Epoch 45/100\n",
            "100/100 [==============================] - 0s 3ms/step - loss: 0.0159 - val_loss: 0.0166\n",
            "Epoch 46/100\n",
            "100/100 [==============================] - 0s 3ms/step - loss: 0.0147 - val_loss: 0.0153\n",
            "Epoch 47/100\n",
            "100/100 [==============================] - 0s 3ms/step - loss: 0.0135 - val_loss: 0.0140\n",
            "Epoch 48/100\n",
            "100/100 [==============================] - 0s 3ms/step - loss: 0.0124 - val_loss: 0.0130\n",
            "Epoch 49/100\n",
            "100/100 [==============================] - 0s 3ms/step - loss: 0.0114 - val_loss: 0.0119\n",
            "Epoch 50/100\n",
            "100/100 [==============================] - 0s 3ms/step - loss: 0.0105 - val_loss: 0.0110\n",
            "Epoch 51/100\n",
            "100/100 [==============================] - 0s 3ms/step - loss: 0.0097 - val_loss: 0.0102\n",
            "Epoch 52/100\n",
            "100/100 [==============================] - 0s 3ms/step - loss: 0.0090 - val_loss: 0.0094\n",
            "Epoch 53/100\n",
            "100/100 [==============================] - 0s 3ms/step - loss: 0.0083 - val_loss: 0.0087\n",
            "Epoch 54/100\n",
            "100/100 [==============================] - 0s 3ms/step - loss: 0.0077 - val_loss: 0.0081\n",
            "Epoch 55/100\n",
            "100/100 [==============================] - 0s 3ms/step - loss: 0.0071 - val_loss: 0.0075\n",
            "Epoch 56/100\n",
            "100/100 [==============================] - 0s 3ms/step - loss: 0.0066 - val_loss: 0.0070\n",
            "Epoch 57/100\n",
            "100/100 [==============================] - 0s 3ms/step - loss: 0.0062 - val_loss: 0.0065\n",
            "Epoch 58/100\n",
            "100/100 [==============================] - 0s 3ms/step - loss: 0.0057 - val_loss: 0.0061\n",
            "Epoch 59/100\n",
            "100/100 [==============================] - 0s 3ms/step - loss: 0.0054 - val_loss: 0.0057\n",
            "Epoch 60/100\n",
            "100/100 [==============================] - 0s 3ms/step - loss: 0.0050 - val_loss: 0.0054\n",
            "Epoch 61/100\n",
            "100/100 [==============================] - 0s 3ms/step - loss: 0.0047 - val_loss: 0.0050\n",
            "Epoch 62/100\n",
            "100/100 [==============================] - 0s 3ms/step - loss: 0.0045 - val_loss: 0.0047\n",
            "Epoch 63/100\n",
            "100/100 [==============================] - 0s 3ms/step - loss: 0.0042 - val_loss: 0.0045\n",
            "Epoch 64/100\n",
            "100/100 [==============================] - 0s 3ms/step - loss: 0.0040 - val_loss: 0.0042\n",
            "Epoch 65/100\n",
            "100/100 [==============================] - 0s 3ms/step - loss: 0.0038 - val_loss: 0.0040\n",
            "Epoch 66/100\n",
            "100/100 [==============================] - 0s 3ms/step - loss: 0.0036 - val_loss: 0.0038\n",
            "Epoch 67/100\n",
            "100/100 [==============================] - 0s 3ms/step - loss: 0.0035 - val_loss: 0.0037\n",
            "Epoch 68/100\n",
            "100/100 [==============================] - 0s 3ms/step - loss: 0.0033 - val_loss: 0.0035\n",
            "Epoch 69/100\n",
            "100/100 [==============================] - 0s 3ms/step - loss: 0.0032 - val_loss: 0.0034\n",
            "Epoch 70/100\n",
            "100/100 [==============================] - 0s 3ms/step - loss: 0.0031 - val_loss: 0.0033\n",
            "Epoch 71/100\n",
            "100/100 [==============================] - 0s 3ms/step - loss: 0.0030 - val_loss: 0.0032\n",
            "Epoch 72/100\n",
            "100/100 [==============================] - 0s 3ms/step - loss: 0.0029 - val_loss: 0.0031\n",
            "Epoch 73/100\n",
            "100/100 [==============================] - 0s 3ms/step - loss: 0.0028 - val_loss: 0.0030\n",
            "Epoch 74/100\n",
            "100/100 [==============================] - 0s 3ms/step - loss: 0.0027 - val_loss: 0.0029\n",
            "Epoch 75/100\n",
            "100/100 [==============================] - 0s 3ms/step - loss: 0.0027 - val_loss: 0.0028\n",
            "Epoch 76/100\n",
            "100/100 [==============================] - 0s 3ms/step - loss: 0.0026 - val_loss: 0.0027\n",
            "Epoch 77/100\n",
            "100/100 [==============================] - 0s 3ms/step - loss: 0.0026 - val_loss: 0.0027\n",
            "Epoch 78/100\n",
            "100/100 [==============================] - 0s 3ms/step - loss: 0.0025 - val_loss: 0.0026\n",
            "Epoch 79/100\n",
            "100/100 [==============================] - 0s 3ms/step - loss: 0.0025 - val_loss: 0.0026\n",
            "Epoch 80/100\n",
            "100/100 [==============================] - 0s 3ms/step - loss: 0.0024 - val_loss: 0.0025\n",
            "Epoch 81/100\n",
            "100/100 [==============================] - 0s 3ms/step - loss: 0.0024 - val_loss: 0.0025\n",
            "Epoch 82/100\n",
            "100/100 [==============================] - 0s 3ms/step - loss: 0.0024 - val_loss: 0.0024\n",
            "Epoch 83/100\n",
            "100/100 [==============================] - 0s 3ms/step - loss: 0.0023 - val_loss: 0.0024\n",
            "Epoch 84/100\n",
            "100/100 [==============================] - 0s 3ms/step - loss: 0.0023 - val_loss: 0.0024\n",
            "Epoch 85/100\n",
            "100/100 [==============================] - 0s 3ms/step - loss: 0.0023 - val_loss: 0.0023\n",
            "Epoch 86/100\n",
            "100/100 [==============================] - 0s 3ms/step - loss: 0.0022 - val_loss: 0.0023\n",
            "Epoch 87/100\n",
            "100/100 [==============================] - 0s 3ms/step - loss: 0.0022 - val_loss: 0.0023\n",
            "Epoch 88/100\n",
            "100/100 [==============================] - 0s 3ms/step - loss: 0.0022 - val_loss: 0.0022\n",
            "Epoch 89/100\n",
            "100/100 [==============================] - 0s 3ms/step - loss: 0.0022 - val_loss: 0.0022\n",
            "Epoch 90/100\n",
            "100/100 [==============================] - 0s 3ms/step - loss: 0.0021 - val_loss: 0.0022\n",
            "Epoch 91/100\n",
            "100/100 [==============================] - 0s 3ms/step - loss: 0.0021 - val_loss: 0.0022\n",
            "Epoch 92/100\n",
            "100/100 [==============================] - 0s 3ms/step - loss: 0.0021 - val_loss: 0.0021\n",
            "Epoch 93/100\n",
            "100/100 [==============================] - 0s 3ms/step - loss: 0.0021 - val_loss: 0.0021\n",
            "Epoch 94/100\n",
            "100/100 [==============================] - 0s 3ms/step - loss: 0.0020 - val_loss: 0.0021\n",
            "Epoch 95/100\n",
            "100/100 [==============================] - 0s 3ms/step - loss: 0.0020 - val_loss: 0.0021\n",
            "Epoch 96/100\n",
            "100/100 [==============================] - 0s 3ms/step - loss: 0.0020 - val_loss: 0.0020\n",
            "Epoch 97/100\n",
            "100/100 [==============================] - 0s 3ms/step - loss: 0.0020 - val_loss: 0.0020\n",
            "Epoch 98/100\n",
            "100/100 [==============================] - 0s 3ms/step - loss: 0.0020 - val_loss: 0.0020\n",
            "Epoch 99/100\n",
            "100/100 [==============================] - 0s 3ms/step - loss: 0.0019 - val_loss: 0.0020\n",
            "Epoch 100/100\n",
            "100/100 [==============================] - 0s 3ms/step - loss: 0.0019 - val_loss: 0.0019\n"
          ]
        },
        {
          "output_type": "display_data",
          "data": {
            "image/png": "[encoded data removed]",
            "text/plain": [
              "<Figure size 432x288 with 1 Axes>"
            ]
          },
          "metadata": {
            "needs_background": "light"
          }
        }
      ]
    }
  ]
}