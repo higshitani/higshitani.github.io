{
  "nbformat": 4,
  "nbformat_minor": 0,
  "metadata": {
    "colab": {
      "name": "PY-DS-2021-2.ipynb のコピー",
      "provenance": [],
      "collapsed_sections": [],
      "include_colab_link": true
    },
    "kernelspec": {
      "name": "python3",
      "display_name": "Python 3"
    }
  },
  "cells": [
    {
      "cell_type": "markdown",
      "metadata": {
        "id": "view-in-github",
        "colab_type": "text"
      },
      "source": [
        "<a href=\"https://colab.research.google.com/github/higshitani/higshitani.github.io/blob/main/PY_DS_2021_2_ipynb_%E3%81%AE%E3%82%B3%E3%83%94%E3%83%BC.ipynb\" target=\"_parent\"><img src=\"https://colab.research.google.com/assets/colab-badge.svg\" alt=\"Open In Colab\"/></a>"
      ]
    },
    {
      "cell_type": "markdown",
      "metadata": {
        "id": "LCsYgOr6hsZu"
      },
      "source": [
        "#「Pythonによるデータ科学入門」 DAY 2 のスライド中のコード"
      ]
    },
    {
      "cell_type": "code",
      "metadata": {
        "id": "w4MonSFVhxxD",
        "colab": {
          "base_uri": "https://localhost:8080/"
        },
        "outputId": "4a181366-3617-474a-fb89-97f8acd99ad6"
      },
      "source": [
        "# coding: utf-8\n",
        "x=[12, 11, 9, 13, 8, 4, 3, 5, 6, 1]\n",
        "n=int(input(\"検索する数値:\"))\n",
        "k=-1\n",
        "for i in range(0,len(x),1):\n",
        "    if x[i]==n:\n",
        "        k=i\n",
        "        break\n",
        "\n",
        "if k<0:\n",
        "    print(\"その数は見つかりませんでした\")\n",
        "else:\n",
        "    print(\"その数は\",k,\"番目の位置にありました\")"
      ],
      "execution_count": 3,
      "outputs": [
        {
          "output_type": "stream",
          "name": "stdout",
          "text": [
            "検索する数値:1\n",
            "その数は 9 番目の位置にありました\n"
          ]
        }
      ]
    },
    {
      "cell_type": "code",
      "metadata": {
        "id": "Wyl3hEXChr9Z",
        "colab": {
          "base_uri": "https://localhost:8080/"
        },
        "outputId": "7b29b856-af25-4af0-fd1c-369d63a058f3"
      },
      "source": [
        "# coding: utf-8\n",
        "x=[ 1.2, 2.1, 3.1, 4.7, 4.8, 5.3, 5.3, 7.3, 8.3, 9.2]\n",
        "val=float(input(\"探したい値:\"))\n",
        "\n",
        "il=-1\n",
        "ih=len(x)\n",
        "while True:\n",
        "    if ih-il<=1:\n",
        "        break\n",
        "    i=(il+ih)//2\n",
        "    if x[i]<=val:\n",
        "        il=i\n",
        "    else:\n",
        "        ih=i\n",
        "\n",
        "print(\"そのデータは\",il,\"番目と\",ih,\"番目の要素の間に位置\")"
      ],
      "execution_count": 4,
      "outputs": [
        {
          "output_type": "stream",
          "name": "stdout",
          "text": [
            "探したい値:5\n",
            "そのデータは 4 番目と 5 番目の要素の間に位置\n"
          ]
        }
      ]
    },
    {
      "cell_type": "code",
      "metadata": {
        "id": "5mWP42QIiHQv"
      },
      "source": [
        "# coding: utf-8\n",
        "import bisect\n",
        "\n",
        "x=[ 1.2, 2.1, 3.1, 4.7, 4.8, 5.3, 5.3, 7.3, 8.3, 9.2]\n",
        "val=float(input(\"探したい値:\"))\n",
        "\n",
        "ih=bisect.bisect(x,val)\n",
        "il=ih-1\n",
        "\n",
        "print(\"そのデータは\",il,\"番目と\",ih,\"番目の要素の間に位置\")"
      ],
      "execution_count": null,
      "outputs": []
    },
    {
      "cell_type": "code",
      "metadata": {
        "id": "vWrSh0iXiMe4",
        "colab": {
          "base_uri": "https://localhost:8080/"
        },
        "outputId": "1951744a-9555-4914-8c3d-6613316e5da1"
      },
      "source": [
        "# coding: utf-8\n",
        "\n",
        "tolerance=1.0e-15\n",
        "\n",
        "xl=0\n",
        "xh=2\n",
        "while True:\n",
        "    if xh-xl<tolerance:\n",
        "        break\n",
        "    x=(xl+xh)/2\n",
        "    if x**2-2<0:\n",
        "        xl=x\n",
        "    else:\n",
        "        xh=x\n",
        "    print(xl,xh)"
      ],
      "execution_count": 8,
      "outputs": [
        {
          "output_type": "stream",
          "name": "stdout",
          "text": [
            "1.0 2\n",
            "1.0 1.5\n",
            "1.25 1.5\n",
            "1.375 1.5\n",
            "1.375 1.4375\n",
            "1.40625 1.4375\n",
            "1.40625 1.421875\n",
            "1.4140625 1.421875\n",
            "1.4140625 1.41796875\n",
            "1.4140625 1.416015625\n",
            "1.4140625 1.4150390625\n",
            "1.4140625 1.41455078125\n",
            "1.4140625 1.414306640625\n",
            "1.4141845703125 1.414306640625\n",
            "1.4141845703125 1.41424560546875\n",
            "1.4141845703125 1.414215087890625\n",
            "1.4141998291015625 1.414215087890625\n",
            "1.4142074584960938 1.414215087890625\n",
            "1.4142112731933594 1.414215087890625\n",
            "1.4142131805419922 1.414215087890625\n",
            "1.4142131805419922 1.4142141342163086\n",
            "1.4142131805419922 1.4142136573791504\n",
            "1.4142134189605713 1.4142136573791504\n",
            "1.4142135381698608 1.4142136573791504\n",
            "1.4142135381698608 1.4142135977745056\n",
            "1.4142135381698608 1.4142135679721832\n",
            "1.414213553071022 1.4142135679721832\n",
            "1.4142135605216026 1.4142135679721832\n",
            "1.4142135605216026 1.414213564246893\n",
            "1.4142135605216026 1.4142135623842478\n",
            "1.4142135614529252 1.4142135623842478\n",
            "1.4142135619185865 1.4142135623842478\n",
            "1.4142135621514171 1.4142135623842478\n",
            "1.4142135622678325 1.4142135623842478\n",
            "1.4142135623260401 1.4142135623842478\n",
            "1.414213562355144 1.4142135623842478\n",
            "1.4142135623696959 1.4142135623842478\n",
            "1.4142135623696959 1.4142135623769718\n",
            "1.4142135623696959 1.4142135623733338\n",
            "1.4142135623715149 1.4142135623733338\n",
            "1.4142135623724243 1.4142135623733338\n",
            "1.414213562372879 1.4142135623733338\n",
            "1.414213562372879 1.4142135623731065\n",
            "1.4142135623729928 1.4142135623731065\n",
            "1.4142135623730496 1.4142135623731065\n",
            "1.414213562373078 1.4142135623731065\n",
            "1.4142135623730923 1.4142135623731065\n",
            "1.4142135623730923 1.4142135623730994\n",
            "1.4142135623730923 1.4142135623730958\n",
            "1.414213562373094 1.4142135623730958\n",
            "1.414213562373095 1.4142135623730958\n"
          ]
        }
      ]
    },
    {
      "cell_type": "code",
      "metadata": {
        "id": "zlyidlDJiQZA",
        "colab": {
          "base_uri": "https://localhost:8080/"
        },
        "outputId": "6248613e-c88d-4acf-fcf5-c680be2a245d"
      },
      "source": [
        "# coding:utf-8\n",
        "import math\n",
        "\n",
        "tolerance=1.0e-15\n",
        "\n",
        "x=2\n",
        "while True:\n",
        "    x1 = x - (x**2-2)/(2*x)\n",
        "    print(x1)\n",
        "    if abs(x1-x)<tolerance:\n",
        "       break\n",
        "    x = x1"
      ],
      "execution_count": 7,
      "outputs": [
        {
          "output_type": "stream",
          "name": "stdout",
          "text": [
            "1.5\n",
            "1.4166666666666667\n",
            "1.4142156862745099\n",
            "1.4142135623746899\n",
            "1.4142135623730951\n",
            "1.414213562373095\n"
          ]
        }
      ]
    },
    {
      "cell_type": "code",
      "metadata": {
        "id": "4kp41blJiTEI"
      },
      "source": [
        "# coding:utf-8\n",
        "import math\n",
        "tolerance=1.0e-15\n",
        "x0=2.5\n",
        "x1=2\n",
        "while True:\n",
        "    x2 = x1 - (x1**2-2)*(x1-x0)/((x1**2-2)-(x0**2-2))\n",
        "    print(x2)\n",
        "    if abs(x2-x1)<tolerance:\n",
        "       break\n",
        "    x0 = x1\n",
        "    x1 = x2"
      ],
      "execution_count": null,
      "outputs": []
    },
    {
      "cell_type": "code",
      "metadata": {
        "id": "ThEYxs1CiVqY",
        "colab": {
          "base_uri": "https://localhost:8080/",
          "height": 338
        },
        "outputId": "31c5fefd-1710-410f-9dfe-6481bb80b9f9"
      },
      "source": [
        "# coding:utf-8\n",
        "\n",
        "import pandas as pd\n",
        "\n",
        "data = pd.read_csv('04MIYAGI.CSV',dtype={2:object},\n",
        "                   header=None,encoding='Shift_JIS')\n",
        "\n",
        "yubin_db = dict()\n",
        "\n",
        "for c,x in data.iterrows():\n",
        "    zip = x[2]\n",
        "    addr = x[6]+x[7]+x[8]\n",
        "    yubin_db[zip] = addr\n",
        "\n",
        "while True:\n",
        "    zip = input('ZIP CODE:')\n",
        "    addr = yubin_db[zip]\n",
        "    print(addr)"
      ],
      "execution_count": 6,
      "outputs": [
        {
          "name": "stdout",
          "output_type": "stream",
          "text": [
            "ZIP CODE:9800874\n",
            "宮城県仙台市青葉区角五郎\n",
            "ZIP CODE:9800801\n",
            "宮城県仙台市青葉区木町通\n",
            "ZIP CODE:9800822\n",
            "宮城県仙台市青葉区立町\n",
            "ZIP CODE:9800722\n"
          ]
        },
        {
          "output_type": "error",
          "ename": "KeyError",
          "evalue": "ignored",
          "traceback": [
            "\u001b[0;31m---------------------------------------------------------------------------\u001b[0m",
            "\u001b[0;31mKeyError\u001b[0m                                  Traceback (most recent call last)",
            "\u001b[0;32m<ipython-input-6-a0be74c60bbf>\u001b[0m in \u001b[0;36m<module>\u001b[0;34m()\u001b[0m\n\u001b[1;32m     15\u001b[0m \u001b[0;32mwhile\u001b[0m \u001b[0;32mTrue\u001b[0m\u001b[0;34m:\u001b[0m\u001b[0;34m\u001b[0m\u001b[0;34m\u001b[0m\u001b[0m\n\u001b[1;32m     16\u001b[0m     \u001b[0mzip\u001b[0m \u001b[0;34m=\u001b[0m \u001b[0minput\u001b[0m\u001b[0;34m(\u001b[0m\u001b[0;34m'ZIP CODE:'\u001b[0m\u001b[0;34m)\u001b[0m\u001b[0;34m\u001b[0m\u001b[0;34m\u001b[0m\u001b[0m\n\u001b[0;32m---> 17\u001b[0;31m     \u001b[0maddr\u001b[0m \u001b[0;34m=\u001b[0m \u001b[0myubin_db\u001b[0m\u001b[0;34m[\u001b[0m\u001b[0mzip\u001b[0m\u001b[0;34m]\u001b[0m\u001b[0;34m\u001b[0m\u001b[0;34m\u001b[0m\u001b[0m\n\u001b[0m\u001b[1;32m     18\u001b[0m     \u001b[0mprint\u001b[0m\u001b[0;34m(\u001b[0m\u001b[0maddr\u001b[0m\u001b[0;34m)\u001b[0m\u001b[0;34m\u001b[0m\u001b[0;34m\u001b[0m\u001b[0m\n",
            "\u001b[0;31mKeyError\u001b[0m: '9800722'"
          ]
        }
      ]
    },
    {
      "cell_type": "code",
      "metadata": {
        "id": "IVI1BoLRibYq"
      },
      "source": [
        ""
      ],
      "execution_count": null,
      "outputs": []
    }
  ]
}