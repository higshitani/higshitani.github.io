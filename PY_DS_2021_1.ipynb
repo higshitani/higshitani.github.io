{
  "nbformat": 4,
  "nbformat_minor": 0,
  "metadata": {
    "colab": {
      "name": "PY-DS-2021-1.ipynb",
      "provenance": [],
      "collapsed_sections": [],
      "include_colab_link": true
    },
    "kernelspec": {
      "name": "python3",
      "display_name": "Python 3"
    }
  },
  "cells": [
    {
      "cell_type": "markdown",
      "metadata": {
        "id": "view-in-github",
        "colab_type": "text"
      },
      "source": [
        "<a href=\"https://colab.research.google.com/github/higshitani/higshitani.github.io/blob/main/PY_DS_2021_1.ipynb\" target=\"_parent\"><img src=\"https://colab.research.google.com/assets/colab-badge.svg\" alt=\"Open In Colab\"/></a>"
      ]
    },
    {
      "cell_type": "markdown",
      "metadata": {
        "id": "1g2k-6pbiRgm"
      },
      "source": [
        "# 「Pythonによるデータ科学入門」 DAY 1 のスライド中のコード"
      ]
    },
    {
      "cell_type": "code",
      "metadata": {
        "id": "AzEN7tMw7eSH"
      },
      "source": [
        "X = [1,2,3,4,5,6,7,8,9,10]\n",
        "S = 0\n",
        "for x in X:\n",
        "    S = S + x\n",
        "print(\"SUM=\",S)"
      ],
      "execution_count": null,
      "outputs": []
    },
    {
      "cell_type": "code",
      "metadata": {
        "id": "8le0DKGF7mYh"
      },
      "source": [
        "X = [1,2,3,4,5,6,7,8,9,10]\n",
        "S = 0\n",
        "N = len(X)\n",
        "for i in range(0,N,1):\n",
        "    S = S + X[i]\n",
        "print(\"SUM=\",S)"
      ],
      "execution_count": null,
      "outputs": []
    },
    {
      "cell_type": "code",
      "metadata": {
        "id": "WWTnPzjN7oYT"
      },
      "source": [
        "X = [1,2,3,4,5,6,7,8,9,10]\n",
        "S = sum(X)\n",
        "print(\"SUM=\",S)"
      ],
      "execution_count": null,
      "outputs": []
    },
    {
      "cell_type": "code",
      "metadata": {
        "id": "1YI3ryTEcK2D",
        "colab": {
          "base_uri": "https://localhost:8080/"
        },
        "outputId": "8444bf68-aaa6-47d1-f43f-6e4a5d848422"
      },
      "source": [
        "X = [69,74,76,90,90,75,75,79,68,74,97]\n",
        "n = len(X)\n",
        "s = 0\n",
        "s2 = 0\n",
        "for x in X:\n",
        "    s = s + x\n",
        "    s2 = s2 + x**2\n",
        "var = s2/n - (s/n)**2\n",
        "print('Var=',var)"
      ],
      "execution_count": null,
      "outputs": [
        {
          "output_type": "stream",
          "name": "stdout",
          "text": [
            "Var= 79.78512396694259\n"
          ]
        }
      ]
    },
    {
      "cell_type": "code",
      "metadata": {
        "id": "rYs8Q5-Z7qy6",
        "colab": {
          "base_uri": "https://localhost:8080/"
        },
        "outputId": "fea065d3-b24f-4455-981d-47e95588ddc1"
      },
      "source": [
        "# coding:utf-8\n",
        "x=float(input(\"x=\"))\n",
        "fact=1\n",
        "p=1\n",
        "sum=0\n",
        "for k in range(0,10,1):\n",
        "    if k>0:\n",
        "        fact=fact*k\n",
        "        p=p*x\n",
        "    sum=sum+1/fact*p\n",
        "print(\"EXP(\",x,\")=\",sum)"
      ],
      "execution_count": null,
      "outputs": [
        {
          "output_type": "stream",
          "name": "stdout",
          "text": [
            "x=0.2\n",
            "EXP( 0.2 )= 1.221402758160141\n"
          ]
        }
      ]
    },
    {
      "cell_type": "code",
      "metadata": {
        "id": "tonbRtKR7xHS",
        "colab": {
          "base_uri": "https://localhost:8080/"
        },
        "outputId": "148ee527-2410-452b-fa34-cfd7aa10d892"
      },
      "source": [
        "# coding: utf-8\n",
        "import math\n",
        "a,b=map(float,input(\"積分の上限と下限を入力:\").split())\n",
        "n=int(input(\"分割数を入力:\"))\n",
        "dx=(b-a)/n  # 「短冊」の幅\n",
        "s=0         # 総和を求めるための変数\n",
        "for i in range(0,n,1):\n",
        "    x=a+dx*i\n",
        "    fx=math.sin(x)\n",
        "    s=s+fx*dx\n",
        "print(\"積分結果=\",s)"
      ],
      "execution_count": null,
      "outputs": [
        {
          "output_type": "stream",
          "name": "stdout",
          "text": [
            "積分の上限と下限を入力:0 3.1415\n",
            "分割数を入力:30\n",
            "積分結果= 1.9981672137128805\n"
          ]
        }
      ]
    },
    {
      "cell_type": "code",
      "metadata": {
        "id": "vN-ci7Um780c"
      },
      "source": [
        "# coding: utf-8\n",
        "dx=0.01\n",
        "X=2.0\n",
        "x=0.0\n",
        "y=1.0\n",
        "while x<X:\n",
        "    print(\"x=\",x,\" y=\",y)\n",
        "    f=-y\n",
        "    y=y+f*dx\n",
        "    x=x+dx"
      ],
      "execution_count": null,
      "outputs": []
    },
    {
      "cell_type": "code",
      "metadata": {
        "id": "_-yS78HY8DxN",
        "colab": {
          "base_uri": "https://localhost:8080/"
        },
        "outputId": "e4b5e810-b1bd-4436-b6ed-9b4d3a40fa81"
      },
      "source": [
        "# coding: utf-8\n",
        "\n",
        "import math\n",
        "x1 = float(input('x='))\n",
        "x0 = -10\n",
        "N = 40\n",
        "h = (x1-x0)/N\n",
        "sum=0.0\n",
        "for i in range(N+1):\n",
        "    x = x0 + i*h\n",
        "    if i<N:\n",
        "        sum = sum + math.exp(-x*x/2)\n",
        "    else:\n",
        "        sum = sum + math.exp(-x*x/2)/2.0\n",
        "sum=sum*h/math.sqrt(2*math.pi)\n",
        "print('F(',x1,')= ',sum,sep='')"
      ],
      "execution_count": null,
      "outputs": [
        {
          "output_type": "stream",
          "name": "stdout",
          "text": [
            "x=2\n",
            "F(2.0)= 0.9764412420321567\n"
          ]
        }
      ]
    },
    {
      "cell_type": "code",
      "metadata": {
        "id": "VnGoBuqQrywY"
      },
      "source": [
        "0.9764412420321567-0.02310982969843547"
      ],
      "execution_count": null,
      "outputs": []
    },
    {
      "cell_type": "code",
      "metadata": {
        "id": "ghIaUMue8NHu"
      },
      "source": [
        "# coding: utf-8\n",
        "\n",
        "import math\n",
        "x0 = float(input('x0='))\n",
        "x1 = float(input('x1(>x0)='))\n",
        "N = 100\n",
        "tmin=-5\n",
        "tmax=5\n",
        "h = (tmax-tmin)/N\n",
        "sum=0.0\n",
        "t=tmin\n",
        "while t<tmax:\n",
        "    phi = math.tanh(math.pi/2*math.sinh(t))\n",
        "    dphidt = math.pi/2*math.cosh(t) \\\n",
        "            / math.cosh(math.pi/2*math.sinh(t))**2\n",
        "    f = math.exp(-((x1-x0)/2*phi+(x1+x0)/2)**2/2) * dphidt\n",
        "    sum = sum + f\n",
        "    t=t+h\n",
        "\n",
        "sum=(x1-x0)/2.0*sum*h/math.sqrt(2*math.pi)\n",
        "print('F(',x0,'-',x1,')= ', sum,sep='')"
      ],
      "execution_count": null,
      "outputs": []
    },
    {
      "cell_type": "code",
      "metadata": {
        "id": "W-YigJye8asv"
      },
      "source": [
        ""
      ],
      "execution_count": null,
      "outputs": []
    }
  ]
}