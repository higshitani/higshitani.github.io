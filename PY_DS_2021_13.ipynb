{
  "nbformat": 4,
  "nbformat_minor": 0,
  "metadata": {
    "colab": {
      "name": "PY-DS-2021-13.ipynb",
      "provenance": [],
      "collapsed_sections": [],
      "include_colab_link": true
    },
    "kernelspec": {
      "name": "python3",
      "display_name": "Python 3"
    },
    "accelerator": "GPU"
  },
  "cells": [
    {
      "cell_type": "markdown",
      "metadata": {
        "id": "view-in-github",
        "colab_type": "text"
      },
      "source": [
        "<a href=\"https://colab.research.google.com/github/higshitani/higshitani.github.io/blob/main/PY_DS_2021_13.ipynb\" target=\"_parent\"><img src=\"https://colab.research.google.com/assets/colab-badge.svg\" alt=\"Open In Colab\"/></a>"
      ]
    },
    {
      "cell_type": "markdown",
      "metadata": {
        "id": "49Imy7Q9-FpL"
      },
      "source": [
        "# 「Pythonによるデータ科学入門」のスライド中のコード (DAY 13)"
      ]
    },
    {
      "cell_type": "code",
      "metadata": {
        "colab": {
          "base_uri": "https://localhost:8080/",
          "height": 612
        },
        "id": "Sn8Vzvom-CSa",
        "outputId": "5501c0bd-fc4e-473a-da42-b9c0673fe061"
      },
      "source": [
        "# coding: utf-8\n",
        "from keras.models import Sequential\n",
        "from keras.layers import Dense, Activation, Dropout\n",
        "from keras import optimizers\n",
        "import numpy as np\n",
        "import matplotlib.pyplot as plt\n",
        "\n",
        "x_train=np.random.uniform(-np.pi*1.5,np.pi*1.5,2000)\n",
        "y_train=(np.cos(x_train) + 1)/2\n",
        "\n",
        "x_test=np.random.uniform(-np.pi*1.5,np.pi*1.5,200)\n",
        "y_test=(np.cos(x_test) + 1)/2\n",
        "\n",
        "model = Sequential()\n",
        "model.add(Dense(12, input_dim=1, activation='relu', use_bias=True))\n",
        "model.add(Dense(12, use_bias=True, activation='relu'))\n",
        "model.add(Dense(12, use_bias=True, activation='relu'))\n",
        "model.add(Dense(12, use_bias=True, activation='relu'))\n",
        "model.add(Dense(1, use_bias=True, activation='sigmoid'))\n",
        "\n",
        "model.compile(loss='mean_squared_error', optimizer='Adam')\n",
        "\n",
        "model.fit(x_train,y_train,\n",
        "          batch_size=1,epochs=10,\n",
        "          verbose=1,validation_data=(x_test, y_test))\n",
        "\n",
        "result = model.predict(x_test)\n",
        "\n",
        "y_predict = result[:,0]\n",
        "\n",
        "plt.scatter(x_test, y_test)\n",
        "plt.scatter(x_test, y_predict)\n",
        "plt.show()"
      ],
      "execution_count": null,
      "outputs": [
        {
          "output_type": "stream",
          "name": "stdout",
          "text": [
            "Epoch 1/10\n",
            "2000/2000 [==============================] - 4s 2ms/step - loss: 0.0348 - val_loss: 0.0149\n",
            "Epoch 2/10\n",
            "2000/2000 [==============================] - 4s 2ms/step - loss: 0.0108 - val_loss: 0.0076\n",
            "Epoch 3/10\n",
            "2000/2000 [==============================] - 4s 2ms/step - loss: 0.0035 - val_loss: 0.0014\n",
            "Epoch 4/10\n",
            "2000/2000 [==============================] - 4s 2ms/step - loss: 0.0012 - val_loss: 7.7406e-04\n",
            "Epoch 5/10\n",
            "2000/2000 [==============================] - 4s 2ms/step - loss: 7.3000e-04 - val_loss: 3.7275e-04\n",
            "Epoch 6/10\n",
            "2000/2000 [==============================] - 4s 2ms/step - loss: 6.8405e-04 - val_loss: 2.3886e-04\n",
            "Epoch 7/10\n",
            "2000/2000 [==============================] - 4s 2ms/step - loss: 6.2328e-04 - val_loss: 4.8542e-04\n",
            "Epoch 8/10\n",
            "2000/2000 [==============================] - 4s 2ms/step - loss: 5.4325e-04 - val_loss: 1.3005e-04\n",
            "Epoch 9/10\n",
            "2000/2000 [==============================] - 4s 2ms/step - loss: 4.2665e-04 - val_loss: 2.7955e-04\n",
            "Epoch 10/10\n",
            "2000/2000 [==============================] - 4s 2ms/step - loss: 4.0863e-04 - val_loss: 1.8634e-04\n"
          ]
        },
        {
          "output_type": "display_data",
          "data": {
            "image/png": "[encoded data removed]",
            "text/plain": [
              "<Figure size 432x288 with 1 Axes>"
            ]
          },
          "metadata": {
            "needs_background": "light"
          }
        }
      ]
    },
    {
      "cell_type": "code",
      "metadata": {
        "colab": {
          "base_uri": "https://localhost:8080/",
          "height": 295
        },
        "id": "2CXLgndt-TXB",
        "outputId": "b904e066-ae94-4adf-f5ea-ff38f457143b"
      },
      "source": [
        "# coding: utf-8\n",
        "import math\n",
        "import matplotlib.pyplot as plt\n",
        "\n",
        "N = 1000000\n",
        "x = N-10\n",
        "y = 10\n",
        "z = 0\n",
        "\n",
        "taxis=[ ]\n",
        "xaxis=[ ]\n",
        "yaxis=[ ]\n",
        "zaxis=[ ]\n",
        "\n",
        "beta=0.2/N\n",
        "gamma=0.07\n",
        "dt=0.001\n",
        "\n",
        "t = 0\n",
        "cnt=0\n",
        "while t<180:\n",
        "    if cnt%100==0:\n",
        "        taxis.append(t)\n",
        "        xaxis.append(x)\n",
        "        yaxis.append(y)\n",
        "        zaxis.append(z)\n",
        "    dxdt = - beta*x*y\n",
        "    dydt = beta*x*y - gamma*y\n",
        "    x = x + dxdt * dt\n",
        "    y = y + dydt * dt\n",
        "    z = N - x - y\n",
        "    t = t + dt\n",
        "    cnt = cnt + 1\n",
        "\n",
        "plt.title(\"SIR MODEL\")\n",
        "plt.plot(taxis,xaxis, color=(0.0,1,0.0), linewidth=1.0, label='S')\n",
        "plt.plot(taxis,yaxis, color=(1.0,0,0.0), linewidth=1.0, label='I')\n",
        "plt.plot(taxis,zaxis, color=(0.0,0,1.0), linewidth=1.0, label='R')\n",
        "plt.xlim(0,180)\n",
        "plt.legend()\n",
        "plt.xlabel('DAY')\n",
        "plt.ylabel('X, Y, Z')\n",
        "plt.grid(True)\n",
        "plt.show()"
      ],
      "execution_count": null,
      "outputs": [
        {
          "output_type": "display_data",
          "data": {
            "image/png": "[encoded data removed]",
            "text/plain": [
              "<Figure size 432x288 with 1 Axes>"
            ]
          },
          "metadata": {
            "needs_background": "light"
          }
        }
      ]
    },
    {
      "cell_type": "code",
      "metadata": {
        "id": "9RweWnn5-2qG",
        "colab": {
          "base_uri": "https://localhost:8080/"
        },
        "outputId": "871f5fa6-36f8-45d0-8201-a3734ba3d16e"
      },
      "source": [
        "# coding: utf-8\n",
        "import math\n",
        "import numpy as np\n",
        "\n",
        "samples=[3,2,4,2,2,1,4,2,10,4,3,4,4,3,3,9,9,3,4,3,9,4,5,9,7,7,3,7]\n",
        "nsample=len(samples)\n",
        "\n",
        "nb=1000\n",
        "alphas=[]\n",
        "betas=[]\n",
        "P = np.ones((nsample,)).cumsum()/(nsample+1)\n",
        "Y =np.log(- np.log(1-P))\n",
        "for _ in range(nb):\n",
        "    taus = np.sort( np.random.choice(samples,size=nsample,replace=True) )\n",
        "    X = np.log(taus)\n",
        "    a,b = np.polyfit(X,Y,1)\n",
        "    alphas.append(a)\n",
        "    betas.append(math.exp(-b/a))\n",
        "\n",
        "alphas = np.array(alphas)\n",
        "mua=alphas.mean()\n",
        "s2=0\n",
        "for i in range(nb):\n",
        "    s2 += (alphas[i] - mua)**2\n",
        "sea=math.sqrt(s2/(nb-1))\n",
        "print('alpha:',mua,sea)\n",
        "\n",
        "betas = np.array(betas)\n",
        "mub=betas.mean()\n",
        "s2=0\n",
        "for i in range(nb):\n",
        "    s2 += (betas[i] - mub)**2\n",
        "seb=math.sqrt(s2/(nb-1))\n",
        "print('beta:',mub,seb)\n"
      ],
      "execution_count": null,
      "outputs": [
        {
          "output_type": "stream",
          "name": "stdout",
          "text": [
            "alpha: 1.9180061055925708 0.21180597128354334\n",
            "beta: 5.352674449916394 0.5522641935432714\n"
          ]
        }
      ]
    },
    {
      "cell_type": "code",
      "source": [
        "# coding: utf-8\n",
        "import numpy as np\n",
        "import matplotlib.pyplot as plt\n",
        "\n",
        "def weibull(alpha,beta,tau):\n",
        "    return alpha/(beta**alpha)*tau**(alpha-1)*np.exp(-(tau/beta)**alpha)\n",
        "\n",
        "samples=[3,2,4,2,2,1,4,2,10,4,3,4,4,3,3,9,9,3,4,3,9,4,5,9,7,7,3,7]\n",
        "\n",
        "alpha=1.9\n",
        "beta=5.3\n",
        "\n",
        "x = np.linspace(0,20,100)\n",
        "y = weibull(alpha,beta,x)\n",
        "\n",
        "plt.plot(x, y, color=(1.0,0.0,0.0), linewidth=2.0)\n",
        "plt.hist(samples,density=True)\n",
        "plt.xlabel('TAU (DAYS)')\n",
        "plt.ylabel('P(TAU)')\n",
        "plt.grid(True)\n",
        "plt.show()\n"
      ],
      "metadata": {
        "colab": {
          "base_uri": "https://localhost:8080/",
          "height": 279
        },
        "id": "dTY7C4K6F7mj",
        "outputId": "128184cb-f6a8-4dea-8c9f-6201ef35b6ea"
      },
      "execution_count": null,
      "outputs": [
        {
          "output_type": "display_data",
          "data": {
            "image/png": "[encoded data removed]",
            "text/plain": [
              "<Figure size 432x288 with 1 Axes>"
            ]
          },
          "metadata": {
            "needs_background": "light"
          }
        }
      ]
    },
    {
      "cell_type": "code",
      "metadata": {
        "id": "zKOcbMqX-7n_"
      },
      "source": [
        "# coding: utf-8\n",
        "import numpy as np\n",
        "import pandas as pd\n",
        "from datetime import timedelta\n",
        "import datetime\n",
        "import matplotlib.pyplot as plt\n",
        "\n",
        "data = pd.read_csv(\"nhk_news_covid19_prefectures_daily_data.csv\")\n",
        "prefs = {\n",
        "    1:'HOKKAIDO', 2:'AOMORI', 3:'IWATE', 4:'MIYAGI', 5:'AKITA',\n",
        "    6:'YAMAGATA', 7:'FUKUSHIMA', 8:'IBARAKI', 9:'TOCHIGI', 10:'GUNMA',\n",
        "    11:'SAITAMA', 12:'CHIBA', 13:'TOKYO', 14:'KANAGAWA', 15:'NIIGATA',\n",
        "    16:'TOYAMA', 17:'ISHIKAWA', 18:'FUKUI', 19:'YAMANASHI', 20:'NAGANO',\n",
        "    21:'GIFU', 22:'SHIZUOKA', 23:'AICHI', 24:'MIE', 25:'SHIGA',\n",
        "    26:'KYOTO', 27:'OSAKA', 28:'HYOGO', 29:'NARA', 30:'WAKAYAMA',\n",
        "    31:'TOTTORI', 32:'SHIMANE', 33:'OKAYAMA', 34:'HIROSHIMA', 35:'YAMAGUCHI',\n",
        "    36:'TOKUSHIMA', 37:'KAGAWA', 38:'EHIME', 39:'KOCHI', 40:'FUKUOKA',\n",
        "    41:'SAGA', 42:'NAGASAKI', 43:'KUMAMOTO', 44:'OITA', 45:'MIYAZAKI',\n",
        "    46:'KAGOSHIMA', 47:'OKINAWA'}\n",
        "\n",
        "ndays=700\n",
        "X = np.zeros(shape=(ndays,48))\n",
        "DAYS = np.linspace(0,ndays-1,ndays)\n",
        "\n",
        "for n,cols in data.iterrows():\n",
        "    days = (pd.to_datetime(cols['日付']) - pd.to_datetime('2020/01/01')).days\n",
        "    pref_code =  cols['都道府県コード']\n",
        "    pref_name =  cols['都道府県名']\n",
        "    n_positive = cols['各地の感染者数_1日ごとの発表数']\n",
        "    n_deathtoll = cols['各地の死者数_1日ごとの発表数']\n",
        "    if days>=0 and days<X.shape[0]: \n",
        "        X[days,pref_code] = n_positive\n",
        "\n",
        "for i in range(1,48):\n",
        "    plt.plot(DAYS,X[:,i],'-',label=prefs[i])\n",
        "\n",
        "# plt.legend()\n",
        "plt.ylabel('NUMBER OF TEST-POSITIVE CASES')\n",
        "plt.xlabel('DAYS from 2020/01/01')\n",
        "plt.show()"
      ],
      "execution_count": null,
      "outputs": []
    }
  ]
}