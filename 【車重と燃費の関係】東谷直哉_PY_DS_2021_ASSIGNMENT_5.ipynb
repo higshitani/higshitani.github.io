{
  "nbformat": 4,
  "nbformat_minor": 0,
  "metadata": {
    "colab": {
      "name": "東谷直哉 - PY-DS-2021-ASSIGNMENT-5.ipynb",
      "provenance": [],
      "collapsed_sections": [],
      "include_colab_link": true
    },
    "kernelspec": {
      "name": "python3",
      "display_name": "Python 3"
    },
    "language_info": {
      "name": "python"
    }
  },
  "cells": [
    {
      "cell_type": "markdown",
      "metadata": {
        "id": "view-in-github",
        "colab_type": "text"
      },
      "source": [
        "<a href=\"https://colab.research.google.com/github/higshitani/higshitani.github.io/blob/main/%E3%80%90%E8%BB%8A%E9%87%8D%E3%81%A8%E7%87%83%E8%B2%BB%E3%81%AE%E9%96%A2%E4%BF%82%E3%80%91%E6%9D%B1%E8%B0%B7%E7%9B%B4%E5%93%89_PY_DS_2021_ASSIGNMENT_5.ipynb\" target=\"_parent\"><img src=\"https://colab.research.google.com/assets/colab-badge.svg\" alt=\"Open In Colab\"/></a>"
      ]
    },
    {
      "cell_type": "markdown",
      "metadata": {
        "id": "qRUoBFtTneRv"
      },
      "source": [
        "燃費データのモデルパラメータを求めるコードを作成しなさい。使用したモデルや考え方についての説明も記しておくこと。"
      ]
    },
    {
      "cell_type": "code",
      "metadata": {
        "id": "0kFDFdbFncqY",
        "colab": {
          "base_uri": "https://localhost:8080/"
        },
        "outputId": "e84a3356-748b-4022-da14-ddc8806c3ef3"
      },
      "source": [
        "# coding: utf-8\n",
        "import numpy as np\n",
        "from scipy import optimize\n",
        "\n",
        "def model_func(params, x, y):\n",
        "    c0 = params[0]\n",
        "    c1 = params[1]\n",
        "    c2 = params[2]\n",
        "    res = y - (c0 + c1*x + c2*x**2)\n",
        "    return res\n",
        "\n",
        "data = np.loadtxt('mtcars-mpg-wt.txt')\n",
        "x = data[:,1] # weight (1000 lb)\n",
        "y = data[:,0] # MPG\n",
        "init_params=[20,0,0]\n",
        "result = optimize.leastsq(model_func,init_params,args=(x,y))\n",
        "print('c=',result[0])"
      ],
      "execution_count": null,
      "outputs": [
        {
          "output_type": "stream",
          "name": "stdout",
          "text": [
            "c= [ 49.93081141 -13.38033736   1.17108693]\n"
          ]
        }
      ]
    },
    {
      "cell_type": "code",
      "metadata": {
        "colab": {
          "base_uri": "https://localhost:8080/"
        },
        "id": "L1TZ-DqZhpPQ",
        "outputId": "e2ac2632-8785-4cc1-aaab-41318515e483"
      },
      "source": [
        "# coding: utf-8\n",
        "import numpy as np\n",
        "from scipy import optimize\n",
        "\n",
        "def model_func(params, x, y):\n",
        "    c0 = params[0]\n",
        "    c1 = params[1]\n",
        "    res = y - (c0 + c1*x)\n",
        "    return res\n",
        "\n",
        "data = np.loadtxt('mtcars-mpg-wt.txt')\n",
        "x = data[:,1] # weight (1000 lb)\n",
        "y = data[:,0] # MPG\n",
        "init_params=[20,0]\n",
        "result = optimize.leastsq(model_func,init_params,args=(x,y))\n",
        "print('c=',result[0])"
      ],
      "execution_count": null,
      "outputs": [
        {
          "output_type": "stream",
          "name": "stdout",
          "text": [
            "c= [37.28512621 -5.34447158]\n"
          ]
        }
      ]
    },
    {
      "cell_type": "code",
      "metadata": {
        "colab": {
          "base_uri": "https://localhost:8080/"
        },
        "id": "U2mZXp9_hxLs",
        "outputId": "e1d51fc4-3488-4334-96eb-caa46db4dbad"
      },
      "source": [
        "# coding: utf-8\n",
        "import numpy as np\n",
        "from scipy import optimize\n",
        "\n",
        "def model_func(params, x, y):\n",
        "    c0 = params[0]\n",
        "    c1 = params[1]\n",
        "    c2 = params[2]\n",
        "    c3 = params[3]\n",
        "    res = y - (c0 + c1*x + c2*x**2 + c3*x**3)\n",
        "    return res\n",
        "\n",
        "data = np.loadtxt('mtcars-mpg-wt.txt')\n",
        "x = data[:,1] # weight (1000 lb)\n",
        "y = data[:,0] # MPG\n",
        "init_params=[20,0,0,0]\n",
        "result = optimize.leastsq(model_func,init_params,args=(x,y))\n",
        "print('c=',result[0])"
      ],
      "execution_count": null,
      "outputs": [
        {
          "output_type": "stream",
          "name": "stdout",
          "text": [
            "c= [ 4.84037159e+01 -1.18259962e+01  6.89385468e-01  4.59355790e-02]\n"
          ]
        }
      ]
    },
    {
      "cell_type": "markdown",
      "metadata": {
        "id": "N1IlzBEDiSQe"
      },
      "source": [
        "R2乗値を求めると、線形、非線形（2乗まで、3乗まで）はそれぞれ、0.7528、0.8191、0.8191である。ゆえに、線形より非線形のほうがよさそうではある。2乗までと3乗までの非線形回帰を比較すると、小数点第4位までにおいては差はない。ゆえに、個人的に2乗までがよいのではないかと考察した。\n",
        "\n",
        "証拠にはならないと思われるが、環境省の資料（リンクを参照）P３において、燃費基準値に関して、車両重量が２７５９kgまでにおいて、２乗の関係式で与えられている。本データmtcars-mpg-wt.txt内の最大車両重量がkg換算で2460kgであるので、二乗までの関係式で妥当だと思った。\n",
        "https://www.env.go.jp/policy/%E3%80%90%E8%B3%87%E6%96%99%EF%BC%92%EF%BC%8D%EF%BC%93%E3%80%912030%E5%B9%B4%E5%BA%A6%E7%87%83%E8%B2%BB%E5%9F%BA%E6%BA%96.pdf"
      ]
    }
  ]
}