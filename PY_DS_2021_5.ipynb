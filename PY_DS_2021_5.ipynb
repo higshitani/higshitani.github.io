{
  "nbformat": 4,
  "nbformat_minor": 0,
  "metadata": {
    "colab": {
      "name": "PY-DS-2021-5",
      "provenance": [],
      "collapsed_sections": [],
      "include_colab_link": true
    },
    "kernelspec": {
      "name": "python3",
      "display_name": "Python 3"
    }
  },
  "cells": [
    {
      "cell_type": "markdown",
      "metadata": {
        "id": "view-in-github",
        "colab_type": "text"
      },
      "source": [
        "<a href=\"https://colab.research.google.com/github/higshitani/higshitani.github.io/blob/main/PY_DS_2021_5.ipynb\" target=\"_parent\"><img src=\"https://colab.research.google.com/assets/colab-badge.svg\" alt=\"Open In Colab\"/></a>"
      ]
    },
    {
      "cell_type": "markdown",
      "metadata": {
        "id": "lnq82hnDNu6c"
      },
      "source": [
        "#「Pythonによるデータ科学入門」 DAY 5 のスライド中のコード"
      ]
    },
    {
      "cell_type": "code",
      "metadata": {
        "id": "ywJ0pPYzORCn",
        "colab": {
          "base_uri": "https://localhost:8080/"
        },
        "outputId": "7a01f1af-17b3-4b87-f106-0e9275c621c3"
      },
      "source": [
        "# coding: utf-8\n",
        "import numpy as np\n",
        "\n",
        "def submatrix(i,j,A):\n",
        "    return np.delete(np.delete(A, i, axis=0), j, axis=1)\n",
        "\n",
        "# cofactor expansion\n",
        "def determinant(A,level):\n",
        "    n=A.shape[0]\n",
        "    if n==1:\n",
        "        return A[0,0]\n",
        "    det=''\n",
        "    for i in range(n):\n",
        "        sign=''\n",
        "        if i%2==1:\n",
        "            sign= '-'\n",
        "        elif len(det)>0:\n",
        "            sign = '+'\n",
        "        subdet = determinant(submatrix(i,0,A),level+1) \n",
        "        if len(subdet)==1:\n",
        "            det = det + sign +  A[i,0] + '*' + subdet\n",
        "        else:\n",
        "            if level%3==0:\n",
        "                left='[' ; right=']'\n",
        "            elif level%3==1:\n",
        "                left='{' ; right='}'\n",
        "            else:\n",
        "                left='(' ; right=')'\n",
        "            det = det + sign +  A[i,0] + '*' + left + subdet + right\n",
        "    return det\n",
        "\n",
        "# メイン部\n",
        "X=np.array([\n",
        "        ['a','b','c','d'],\n",
        "        ['e','f','g','h'],\n",
        "        ['i','j','k','l'],\n",
        "        ['m','n','o','p']])\n",
        "d=determinant(X,0)\n",
        "print(d)"
      ],
      "execution_count": null,
      "outputs": [
        {
          "output_type": "stream",
          "name": "stdout",
          "text": [
            "a*[f*{k*p-o*l}-j*{g*p-o*h}+n*{g*l-k*h}]-e*[b*{k*p-o*l}-j*{c*p-o*d}+n*{c*l-k*d}]+i*[b*{g*p-o*h}-f*{c*p-o*d}+n*{c*h-g*d}]-m*[b*{g*l-k*h}-f*{c*l-k*d}+j*{c*h-g*d}]\n"
          ]
        }
      ]
    },
    {
      "cell_type": "code",
      "metadata": {
        "id": "v-Cjc_5egUuE",
        "colab": {
          "base_uri": "https://localhost:8080/"
        },
        "outputId": "66c1fd91-4bf5-4128-cd33-f93f23059d97"
      },
      "source": [
        "# coding: utf-8\n",
        "from sympy import *\n",
        "\n",
        "init_printing()\n",
        "\n",
        "a,b,c,d,e,f,g,h,i,j,k,l,m,n,o,p = symbols(\"a,b,c,d,e,f,g,h,i,j,k,l,m,n,o,p\")\n",
        "\n",
        "X=Matrix([\n",
        "        [a,b,c,d],\n",
        "        [e,f,g,h],\n",
        "        [i,j,k,l],\n",
        "        [m,n,o,p]])\n",
        "\n",
        "\n",
        "print(det(X))\n"
      ],
      "execution_count": null,
      "outputs": [
        {
          "output_type": "stream",
          "name": "stdout",
          "text": [
            "a*f*k*p - a*f*l*o - a*g*j*p + a*g*l*n + a*h*j*o - a*h*k*n - b*e*k*p + b*e*l*o + b*g*i*p - b*g*l*m - b*h*i*o + b*h*k*m + c*e*j*p - c*e*l*n - c*f*i*p + c*f*l*m + c*h*i*n - c*h*j*m - d*e*j*o + d*e*k*n + d*f*i*o - d*f*k*m - d*g*i*n + d*g*j*m\n"
          ]
        }
      ]
    },
    {
      "cell_type": "code",
      "metadata": {
        "id": "pLog3_UkNuMb",
        "colab": {
          "base_uri": "https://localhost:8080/"
        },
        "outputId": "4de5e1fb-331c-4ada-e37b-622de88b2510"
      },
      "source": [
        "# coding: utf-8\n",
        "\n",
        "import math\n",
        "import numpy as np\n",
        "import pandas as pd\n",
        "\n",
        "data = pd.read_csv('rakuten.csv')\n",
        "\n",
        "wt = data['体重'].tolist()\n",
        "ht = data['身長'].tolist()\n",
        "age = data['年齢'].tolist()\n",
        "wage = list(map(math.log10,data['推定年俸'].tolist()))\n",
        "\n",
        "# 正規化\n",
        "wt = (wt - np.mean(wt))/np.std(wt)\n",
        "ht = (ht - np.mean(ht))/np.std(ht)\n",
        "age = (age - np.mean(age))/np.std(age)\n",
        "# 行列にまとめる\n",
        "X = np.vstack([wt, ht, age])\n",
        "\n",
        "# 縦ベクトルに変換\n",
        "wage = np.array([wage]).T\n",
        "\n",
        "# 係数の推定（最小二乗法）\n",
        "XXT = X.dot(X.T)\n",
        "a = np.linalg.inv(XXT).dot(X).dot(wage)\n",
        "\n",
        "print(a)\n"
      ],
      "execution_count": null,
      "outputs": [
        {
          "output_type": "stream",
          "name": "stdout",
          "text": [
            "[[ 0.19957058]\n",
            " [-0.15708865]\n",
            " [ 0.18860879]]\n"
          ]
        }
      ]
    },
    {
      "cell_type": "code",
      "metadata": {
        "id": "f3lIdxFKQcaz",
        "colab": {
          "base_uri": "https://localhost:8080/"
        },
        "outputId": "b875920d-02d6-40e8-9497-a5da3d81156c"
      },
      "source": [
        "# coding: utf-8                                                                                                                                                                        \n",
        "\n",
        "import math\n",
        "import numpy as np\n",
        "import pandas as pd\n",
        "from sklearn import linear_model\n",
        "from sklearn.preprocessing import StandardScaler\n",
        "\n",
        "linreg = linear_model.LinearRegression()\n",
        "\n",
        "data = pd.read_csv('rakuten.csv')\n",
        "\n",
        "wt = data['体重'].tolist()\n",
        "ht = data['身長'].tolist()\n",
        "age = data['年齢'].tolist()\n",
        "wage = list(map(math.log10,data['推定年俸'].tolist()))\n",
        "\n",
        "# 行列にまとめる（row=observation）                                                                                                                                                    \n",
        "X = np.vstack([wt, ht, age]).T\n",
        "# 標準化                                                                                                                                                                 \n",
        "X = StandardScaler().fit_transform(X)\n",
        "\n",
        "y = wage[:]\n",
        "\n",
        "linreg.fit(X,y)\n",
        "\n",
        "print(linreg.coef_)"
      ],
      "execution_count": null,
      "outputs": [
        {
          "output_type": "stream",
          "name": "stdout",
          "text": [
            "[ 0.19957058 -0.15708865  0.18860879]\n"
          ]
        }
      ]
    },
    {
      "cell_type": "code",
      "metadata": {
        "id": "I62pbyHCN2il",
        "colab": {
          "base_uri": "https://localhost:8080/",
          "height": 370
        },
        "outputId": "8e6e9b87-9e18-4357-c542-bcef8dae189c"
      },
      "source": [
        "# coding: utf-8\n",
        "\n",
        "import math\n",
        "import numpy as np\n",
        "import pandas as pd\n",
        "from mpl_toolkits.mplot3d import Axes3D \n",
        "import matplotlib.pyplot as plt\n",
        "\n",
        "data = pd.read_csv('rakuten.csv')\n",
        "\n",
        "wt = data['体重'].tolist()\n",
        "ht = data['身長'].tolist()\n",
        "age = data['年齢'].tolist()\n",
        "wage = list(map(math.log10,data['推定年俸'].tolist()))\n",
        "\n",
        "# 色付け用\n",
        "col=wage[:]\n",
        "\n",
        "# 正規化\n",
        "wt = (wt - np.mean(wt))/np.std(wt)\n",
        "ht = (ht - np.mean(ht))/np.std(ht)\n",
        "age = (age - np.mean(age))/np.std(age)\n",
        "# 行列にまとめる\n",
        "X = np.vstack([wt, ht, age])\n",
        "\n",
        "# 縦ベクトルに変換\n",
        "wage = np.array([wage]).T\n",
        "\n",
        "# 係数の推定（最小二乗法）\n",
        "XXT = X.dot(X.T)\n",
        "a = np.linalg.inv(XXT).dot(X).dot(wage)\n",
        "\n",
        "print(a)\n",
        "\n",
        "fig=plt.figure()\n",
        "ax=Axes3D(fig)\n",
        "scplt=ax.scatter3D(wt, ht, age, c=col, cmap=plt.cm.jet)\n",
        "ax.set_xlabel(\"wt\")\n",
        "ax.set_ylabel(\"ht\")\n",
        "ax.set_zlabel(\"age\")\n",
        "ax.set_xlim(-3,3)\n",
        "ax.set_ylim(-3,3)\n",
        "ax.set_zlim(-3,3)\n",
        "ax.view_init(elev=10, azim=45)\n",
        "plt.colorbar(scplt)\n",
        "plt.show()\n"
      ],
      "execution_count": null,
      "outputs": [
        {
          "output_type": "stream",
          "name": "stdout",
          "text": [
            "[[ 0.19957058]\n",
            " [-0.15708865]\n",
            " [ 0.18860879]]\n"
          ]
        },
        {
          "output_type": "display_data",
          "data": {
            "image/png": "[encoded data removed]",
            "text/plain": [
              "<Figure size 432x288 with 2 Axes>"
            ]
          },
          "metadata": {
            "needs_background": "light"
          }
        }
      ]
    },
    {
      "cell_type": "code",
      "metadata": {
        "id": "nwc9iyhRfJh6",
        "colab": {
          "base_uri": "https://localhost:8080/",
          "height": 317
        },
        "outputId": "d1ab2f4b-e6d2-4cc4-9e2f-d5acb443b91b"
      },
      "source": [
        "# coding: utf-8\n",
        "\n",
        "import scipy\n",
        "import numpy as np\n",
        "import matplotlib.pyplot as plt\n",
        "\n",
        "data = np.array([\n",
        "    [6.4,0.6],[6.4,3.0],[11.3,1.2],[11.3,6.7],[12.9,4.9],[14.5,3.0],[16.1,5.5],[16.1,7.9],\n",
        "    [16.1,10.4],[17.7,5.2],[17.7,8.5],[19.3,4.3],[19.3,6.1],[19.3,7.3],[19.3,8.5],\n",
        "    [20.9,7.9],[20.9,10.4],[20.9,10.4],[20.9,14.0],[22.5,7.9],[22.5,11.0],[22.5,18.3],\n",
        "    [22.5,24.4],[24.2,6.1],[24.2,7.9],[24.2,16.5],[25.8,9.8],[25.8,12.2],[27.4,9.8],\n",
        "    [27.4,12.2],[27.4,15.2],[29.0,12.8],[29.0,17.1],[29.0,23.2],[29.0,25.6],[30.6,11.0],\n",
        "    [30.6,14.0],[30.6,20.7],[32.2,9.8],[32.2,14.6],[32.2,15.8],[32.2,17.1],[32.2,19.5],\n",
        "    [35.4,20.1],[37.0,16.5],[38.6,21.3],[38.6,28.0],[38.6,28.3],[38.6,36.6],[40.2,25.9]])\n",
        "\n",
        "N=data.shape[0]\n",
        "\n",
        "n=3\n",
        "\n",
        "veloc = data[:,0]\n",
        "dist = data[:,1]\n",
        "\n",
        "param = np.polyfit(veloc, dist, n)\n",
        "print(param)\n",
        "func = np.poly1d(param)\n",
        "\n",
        "rss = np.sum( np.square(func(veloc)-dist) ) / N\n",
        "print('RSS=',rss)\n",
        "\n",
        "v = np.linspace(5,45,100)\n",
        "fitted_curve=func(v)\n",
        "\n",
        "plt.plot(veloc,dist, '.', color=(1.0,0,0.0), linewidth=1.0)\n",
        "plt.plot(v,fitted_curve, '-', color=(0.0,0,1.0), linewidth=1.0,label=\"ORDER=\"+str(n))\n",
        "plt.xlabel('VELOC[km/h]')\n",
        "plt.xlim(0,50)\n",
        "plt.ylabel('BRAKING DISTANCE[m]')\n",
        "plt.ylim(0,40)\n",
        "plt.grid(True)\n",
        "plt.legend()\n",
        "plt.show()\n"
      ],
      "execution_count": null,
      "outputs": [
        {
          "output_type": "stream",
          "name": "stdout",
          "text": [
            "[ 7.60661982e-04 -4.18635565e-02  1.30154999e+00 -6.01647911e+00]\n",
            "RSS= 19.792607370411968\n"
          ]
        },
        {
          "output_type": "display_data",
          "data": {
            "image/png": "[encoded data removed]",
            "text/plain": [
              "<Figure size 432x288 with 1 Axes>"
            ]
          },
          "metadata": {
            "needs_background": "light"
          }
        }
      ]
    },
    {
      "cell_type": "code",
      "metadata": {
        "id": "VBQ4lpRRzj5w",
        "outputId": "5f0dc6e4-dcf9-44fe-acf1-9ccf7b75e176",
        "colab": {
          "base_uri": "https://localhost:8080/",
          "height": 295
        }
      },
      "source": [
        "import numpy as np\n",
        "import matplotlib.pyplot as plt\n",
        "\n",
        "x = np.array([0,1,2,3,4,5,6,7,8,9])\n",
        "y = np.square(x) + 10\n",
        "\n",
        "func = np.poly1d([1,0,10])\n",
        "\n",
        "v = np.linspace(0,10,100)\n",
        "curve=func(v)\n",
        "\n",
        "plt.plot(x,y, '.', color=(1.0,0,0.0), linewidth=1.0,label=\"A\")\n",
        "plt.plot(v,curve, '-',color=(0.0,0,1.0),linewidth=1.0,label=\"B\")\n",
        "plt.title('SAMPLE PLOT')\n",
        "plt.xlabel('X')\n",
        "plt.xlim(0,12)\n",
        "plt.ylabel('Y')\n",
        "plt.ylim(0,120)\n",
        "plt.grid(True)\n",
        "plt.legend()\n",
        "plt.show()"
      ],
      "execution_count": null,
      "outputs": [
        {
          "output_type": "display_data",
          "data": {
            "image/png": "[encoded data removed]",
            "text/plain": [
              "<Figure size 432x288 with 1 Axes>"
            ]
          },
          "metadata": {
            "needs_background": "light"
          }
        }
      ]
    },
    {
      "cell_type": "code",
      "metadata": {
        "id": "RHNBFh5hBLl7",
        "colab": {
          "base_uri": "https://localhost:8080/"
        },
        "outputId": "8077be43-18d8-45d4-fbb5-c0c30f7dcce0"
      },
      "source": [
        "# coding: utf-8\n",
        "import numpy as np\n",
        "from scipy import optimize\n",
        "\n",
        "def model_func(params, x, y):\n",
        "    c0 = params[0]\n",
        "    c1 = params[1]\n",
        "    c2 = params[2]\n",
        "    res = y - (c0 + c1*x + c2*x**2)\n",
        "    return res\n",
        "\n",
        "data = np.loadtxt('mtcars-mpg-wt.txt')\n",
        "x = data[:,1] # weight (1000 lb)\n",
        "y = data[:,0] # MPG\n",
        "init_params=[20,0,0]\n",
        "result = optimize.leastsq(model_func,init_params,args=(x,y))\n",
        "print('c=',result[0])"
      ],
      "execution_count": null,
      "outputs": [
        {
          "output_type": "stream",
          "name": "stdout",
          "text": [
            "c= [ 49.93081141 -13.38033736   1.17108693]\n"
          ]
        }
      ]
    }
  ]
}