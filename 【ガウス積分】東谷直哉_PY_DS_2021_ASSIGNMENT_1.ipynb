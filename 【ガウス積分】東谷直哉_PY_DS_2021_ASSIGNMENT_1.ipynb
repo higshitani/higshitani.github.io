{
  "nbformat": 4,
  "nbformat_minor": 0,
  "metadata": {
    "colab": {
      "name": "東谷直哉 - PY-DS-2021-ASSIGNMENT-1.ipynb",
      "provenance": [],
      "collapsed_sections": [],
      "include_colab_link": true
    },
    "kernelspec": {
      "name": "python3",
      "display_name": "Python 3"
    },
    "language_info": {
      "name": "python"
    }
  },
  "cells": [
    {
      "cell_type": "markdown",
      "metadata": {
        "id": "view-in-github",
        "colab_type": "text"
      },
      "source": [
        "<a href=\"https://colab.research.google.com/github/higshitani/higshitani.github.io/blob/main/%E3%80%90%E3%82%AC%E3%82%A6%E3%82%B9%E7%A9%8D%E5%88%86%E3%80%91%E6%9D%B1%E8%B0%B7%E7%9B%B4%E5%93%89_PY_DS_2021_ASSIGNMENT_1.ipynb\" target=\"_parent\"><img src=\"https://colab.research.google.com/assets/colab-badge.svg\" alt=\"Open In Colab\"/></a>"
      ]
    },
    {
      "cell_type": "markdown",
      "metadata": {
        "id": "xyk7t5XRgC23"
      },
      "source": [
        "平均０分散１の正規分布に従う確率密度関数を (-2,2)の区間で積分した値をできるだけ正確に求めるPythonコードを以下のセルに作成しなさい："
      ]
    },
    {
      "cell_type": "code",
      "metadata": {
        "id": "j6rdDKULgCf4",
        "colab": {
          "base_uri": "https://localhost:8080/"
        },
        "outputId": "06e31513-693b-4ca2-ec05-537885f220ce"
      },
      "source": [
        "# coding: utf-8\n",
        "import math\n",
        "x0 = -2\n",
        "x1 = 2\n",
        "h = 0.025\n",
        "sum = 0.0\n",
        "t = -5\n",
        "while t<5:\n",
        "    phi = math.tanh(math.pi/2*math.sinh(t))\n",
        "    dphidt = math.pi/2*math.cosh(t)/math.cosh(math.pi/2*math.sinh(t))**2\n",
        "    f = math.exp(-((x1-x0)/2*phi+(x1+x0)/2)**2/2)*dphidt\n",
        "    sum = sum+f\n",
        "    t = t+h\n",
        "\n",
        "sum = (x1-x0)/2.0*sum*h/math.sqrt(2*math.pi)\n",
        "print(sum)"
      ],
      "execution_count": null,
      "outputs": [
        {
          "output_type": "stream",
          "name": "stdout",
          "text": [
            "0.9544997361036412\n"
          ]
        }
      ]
    }
  ]
}