{
  "nbformat": 4,
  "nbformat_minor": 0,
  "metadata": {
    "colab": {
      "name": "東谷直哉 - PY-DS-2021-ASSIGNMENT-3.ipynb",
      "provenance": [],
      "collapsed_sections": [],
      "include_colab_link": true
    },
    "kernelspec": {
      "name": "python3",
      "display_name": "Python 3"
    },
    "language_info": {
      "name": "python"
    }
  },
  "cells": [
    {
      "cell_type": "markdown",
      "metadata": {
        "id": "view-in-github",
        "colab_type": "text"
      },
      "source": [
        "<a href=\"https://colab.research.google.com/github/higshitani/higshitani.github.io/blob/main/%E3%80%90%E5%A4%A7%E3%81%8D%E3%81%AA%E3%83%87%E3%83%BC%E3%82%BF%E3%81%AE%E6%95%B4%E5%88%97%E3%81%A8%E7%B5%B1%E8%A8%88%E9%87%8F%E3%80%91%E6%9D%B1%E8%B0%B7%E7%9B%B4%E5%93%89_PY_DS_2021_ASSIGNMENT_3.ipynb\" target=\"_parent\"><img src=\"https://colab.research.google.com/assets/colab-badge.svg\" alt=\"Open In Colab\"/></a>"
      ]
    },
    {
      "cell_type": "markdown",
      "metadata": {
        "id": "XtbX4ucAPjMF"
      },
      "source": [
        "100万件のデータ(sample-big-array.txt)のメジアンを計算するコードを完成させ、結果と共に提出しなさい。"
      ]
    },
    {
      "cell_type": "code",
      "metadata": {
        "id": "EtHjtHz7PmiD"
      },
      "source": [
        "import statistics\n",
        "import numpy as np\n",
        "\n",
        "def quick_sort(first, last, x):\n",
        "    if first==last:\n",
        "        return\n",
        "    ip=first\n",
        "    while True:\n",
        "        pv=x[ip]\n",
        "        i=first\n",
        "        j=last\n",
        "        while True:\n",
        "            while i<=last and x[i]<=pv:\n",
        "                i=i+1\n",
        "            while j>=first and x[j]>pv:\n",
        "                j=j-1\n",
        "            if i<j:\n",
        "                x[j],x[i] = x[i],x[j]\n",
        "            else:\n",
        "                break\n",
        "        ip=ip+1\n",
        "        if ip>last or j!=last:\n",
        "            break\n",
        "\n",
        "    if ip>last:\n",
        "        return\n",
        "    quick_sort(first,j,x)\n",
        "    quick_sort(i,last,x)\n",
        "\n",
        "\n",
        "# ↓メイン部↓\n",
        "\n",
        "# データをXへ\n",
        "X = np.loadtxt('sample-big-array.txt')\n",
        "# 与えられたデータの長さはN\n",
        "N = len(X)\n",
        "\n",
        "# 何がみたいですか？ \n",
        "value = int(input('1～4の数を入力してください→平均値なら１、最頻値なら2、分散なら3、標準偏差なら4、中央値なら5： '))\n",
        "if value == 1:\n",
        "   mean=statistics.mean(X)\n",
        "   print(mean)\n",
        "elif value == 2:\n",
        "  mode=statistics.mode(X)\n",
        "  print(mode)\n",
        "elif value == 3:\n",
        "  pvariance = statistics.pvariance(X)\n",
        "  print(pvariance)\n",
        "elif value == 4:\n",
        "  pstdev = statistics.pstdev(X)\n",
        "  print(pstdev)\n",
        "elif value == 5:\n",
        "  quick_sort(0,N-1,X)\n",
        "  if N %2 == 0:\n",
        "    print((X[N//2-1]+X[N//2])/2)\n",
        "  else:\n",
        "    print(X[N//2])\n",
        "else:\n",
        "    print('現在、その機能は実装されておりません。１から5までの整数をご入力ください。またのご利用を楽しみにお待ちしております。')"
      ],
      "execution_count": null,
      "outputs": []
    },
    {
      "cell_type": "code",
      "metadata": {
        "colab": {
          "base_uri": "https://localhost:8080/"
        },
        "id": "m_z_Mz6HsxhK",
        "outputId": "493e17c3-b5d8-4c63-8d4a-b15d5c372dc8"
      },
      "source": [
        "import statistics\n",
        "import numpy as np\n",
        "\n",
        "# データをXへ\n",
        "X = np.loadtxt('sample-big-array.txt')\n",
        "# 与えられたデータの長さはN\n",
        "N = len(X)\n",
        "\n",
        "# 何がみたいですか？ \n",
        "value = int(input('1～4の数を入力してください→平均値なら１、最頻値なら2、分散なら3、標準偏差なら4、中央値なら5： '))\n",
        "if value == 1:\n",
        "   mean=statistics.mean(X)\n",
        "   print(mean)\n",
        "elif value == 2:\n",
        "  mode=statistics.mode(X)\n",
        "  print(mode)\n",
        "elif value == 3:\n",
        "  pvariance = statistics.pvariance(X)\n",
        "  print(pvariance)\n",
        "elif value == 4:\n",
        "  pstdev = statistics.pstdev(X)\n",
        "  print(pstdev)\n",
        "elif value == 5:\n",
        "  median = statistics.median(X)\n",
        "  print(median)\n",
        "else:\n",
        "    print('現在、その機能は実装されておりません。１から5までの整数をご入力ください。またのご利用を楽しみにお待ちしております。')"
      ],
      "execution_count": null,
      "outputs": [
        {
          "output_type": "stream",
          "name": "stdout",
          "text": [
            "1～4の数を入力してください→平均値なら１、最頻値なら2、分散なら3、標準偏差なら4、中央値なら5： 6\n",
            "現在、その機能は実装されておりません。１から5までの整数をご入力ください。またのご利用を楽しみにお待ちしております。\n"
          ]
        }
      ]
    },
    {
      "cell_type": "code",
      "metadata": {
        "colab": {
          "base_uri": "https://localhost:8080/"
        },
        "id": "FMBYO13zv21K",
        "outputId": "b1aa72c4-130d-4489-c768-7fd5e7f20dce"
      },
      "source": [
        "import numpy as np\n",
        "\n",
        "def quick_sort(first, last, x):\n",
        "    if first==last:\n",
        "        return\n",
        "    ip=first\n",
        "    while True:\n",
        "        pv=x[ip]\n",
        "        i=first\n",
        "        j=last\n",
        "        while True:\n",
        "            while i<=last and x[i]<=pv:\n",
        "                i=i+1\n",
        "            while j>=first and x[j]>pv:\n",
        "                j=j-1\n",
        "            if i<j:\n",
        "                x[j],x[i] = x[i],x[j]\n",
        "            else:\n",
        "                break\n",
        "        ip=ip+1\n",
        "        if ip>last or j!=last:\n",
        "            break\n",
        "\n",
        "    if ip>last:\n",
        "        return\n",
        "    quick_sort(first,j,x)\n",
        "    quick_sort(i,last,x)\n",
        "\n",
        "# データをXへ\n",
        "X = np.loadtxt('sample-big-array.txt')\n",
        "# 与えられたデータの長さはN\n",
        "N = len(X)\n",
        "if N %2 == 0:\n",
        "  quick_sort(0,N-1,X)\n",
        "  print((X[N//2-1]+X[N//2])/2)\n",
        "else:\n",
        "  print(X[N//2])"
      ],
      "execution_count": null,
      "outputs": [
        {
          "output_type": "stream",
          "name": "stdout",
          "text": [
            "117.0\n"
          ]
        }
      ]
    },
    {
      "cell_type": "markdown",
      "metadata": {
        "id": "UO_lccbx73x5"
      },
      "source": [
        "117.0"
      ]
    },
    {
      "cell_type": "code",
      "metadata": {
        "id": "HXrAJhhB8WiM"
      },
      "source": [
        "def selectpivot(first1,last1,middle):\n",
        "    o=[first1,last1,middle]\n",
        "    pivot=statistics.median(o)\n",
        "    return pivot\n",
        "    "
      ],
      "execution_count": null,
      "outputs": []
    },
    {
      "cell_type": "markdown",
      "metadata": {
        "id": "Ci_wjYug8hY2"
      },
      "source": [
        "ピボットの選び方を工夫したいと思った。適当な３つの値の中央値を取るだけでも計算時間によい影響をあたえそうだが、実装方法がわからなかった。"
      ]
    }
  ]
}