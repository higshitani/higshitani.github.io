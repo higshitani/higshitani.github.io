{
  "nbformat": 4,
  "nbformat_minor": 0,
  "metadata": {
    "colab": {
      "name": "PY-DS-2021-3",
      "provenance": [],
      "collapsed_sections": [],
      "include_colab_link": true
    },
    "kernelspec": {
      "name": "python3",
      "display_name": "Python 3"
    }
  },
  "cells": [
    {
      "cell_type": "markdown",
      "metadata": {
        "id": "view-in-github",
        "colab_type": "text"
      },
      "source": [
        "<a href=\"https://colab.research.google.com/github/higshitani/higshitani.github.io/blob/main/PY_DS_2021_3.ipynb\" target=\"_parent\"><img src=\"https://colab.research.google.com/assets/colab-badge.svg\" alt=\"Open In Colab\"/></a>"
      ]
    },
    {
      "cell_type": "markdown",
      "metadata": {
        "id": "2QzUiE3LzmPu"
      },
      "source": [
        "#「Pythonによるデータ科学入門」 DAY 3 のスライド中のコード"
      ]
    },
    {
      "cell_type": "code",
      "metadata": {
        "id": "GSRs7nwZzlrx",
        "colab": {
          "base_uri": "https://localhost:8080/",
          "height": 447
        },
        "outputId": "5ca0d8a9-cffc-48e8-fde9-2d9460a99ddc"
      },
      "source": [
        "# coding: utf-8\n",
        "\n",
        "from scipy.stats import norm\n",
        "import math\n",
        "\n",
        "tolerance=1.0e-12\n",
        "\n",
        "x=10\n",
        "while True:\n",
        "    dfdx = 1/math.sqrt(2*math.pi)*math.exp(-x**2/2)\n",
        "    f = norm.cdf(x) - 0.025\n",
        "    x2 = x - f/dfdx\n",
        "    if abs(x2-x) < tolerance:\n",
        "        print(x)\n",
        "        break\n",
        "    x=x2\n"
      ],
      "execution_count": null,
      "outputs": [
        {
          "output_type": "stream",
          "name": "stderr",
          "text": [
            "/usr/local/lib/python3.7/dist-packages/ipykernel_launcher.py:12: RuntimeWarning: divide by zero encountered in double_scalars\n",
            "  if sys.path[0] == '':\n",
            "/usr/local/lib/python3.7/dist-packages/ipykernel_launcher.py:12: RuntimeWarning: invalid value encountered in double_scalars\n",
            "  if sys.path[0] == '':\n"
          ]
        },
        {
          "output_type": "error",
          "ename": "KeyboardInterrupt",
          "evalue": "ignored",
          "traceback": [
            "\u001b[0;31m---------------------------------------------------------------------------\u001b[0m",
            "\u001b[0;31mKeyboardInterrupt\u001b[0m                         Traceback (most recent call last)",
            "\u001b[0;32m<ipython-input-5-5dd51387ba2e>\u001b[0m in \u001b[0;36m<module>\u001b[0;34m()\u001b[0m\n\u001b[1;32m      9\u001b[0m \u001b[0;32mwhile\u001b[0m \u001b[0;32mTrue\u001b[0m\u001b[0;34m:\u001b[0m\u001b[0;34m\u001b[0m\u001b[0;34m\u001b[0m\u001b[0m\n\u001b[1;32m     10\u001b[0m     \u001b[0mdfdx\u001b[0m \u001b[0;34m=\u001b[0m \u001b[0;36m1\u001b[0m\u001b[0;34m/\u001b[0m\u001b[0mmath\u001b[0m\u001b[0;34m.\u001b[0m\u001b[0msqrt\u001b[0m\u001b[0;34m(\u001b[0m\u001b[0;36m2\u001b[0m\u001b[0;34m*\u001b[0m\u001b[0mmath\u001b[0m\u001b[0;34m.\u001b[0m\u001b[0mpi\u001b[0m\u001b[0;34m)\u001b[0m\u001b[0;34m*\u001b[0m\u001b[0mmath\u001b[0m\u001b[0;34m.\u001b[0m\u001b[0mexp\u001b[0m\u001b[0;34m(\u001b[0m\u001b[0;34m-\u001b[0m\u001b[0mx\u001b[0m\u001b[0;34m**\u001b[0m\u001b[0;36m2\u001b[0m\u001b[0;34m/\u001b[0m\u001b[0;36m2\u001b[0m\u001b[0;34m)\u001b[0m\u001b[0;34m\u001b[0m\u001b[0;34m\u001b[0m\u001b[0m\n\u001b[0;32m---> 11\u001b[0;31m     \u001b[0mf\u001b[0m \u001b[0;34m=\u001b[0m \u001b[0mnorm\u001b[0m\u001b[0;34m.\u001b[0m\u001b[0mcdf\u001b[0m\u001b[0;34m(\u001b[0m\u001b[0mx\u001b[0m\u001b[0;34m)\u001b[0m \u001b[0;34m-\u001b[0m \u001b[0;36m0.025\u001b[0m\u001b[0;34m\u001b[0m\u001b[0;34m\u001b[0m\u001b[0m\n\u001b[0m\u001b[1;32m     12\u001b[0m     \u001b[0mx2\u001b[0m \u001b[0;34m=\u001b[0m \u001b[0mx\u001b[0m \u001b[0;34m-\u001b[0m \u001b[0mf\u001b[0m\u001b[0;34m/\u001b[0m\u001b[0mdfdx\u001b[0m\u001b[0;34m\u001b[0m\u001b[0;34m\u001b[0m\u001b[0m\n\u001b[1;32m     13\u001b[0m     \u001b[0;32mif\u001b[0m \u001b[0mabs\u001b[0m\u001b[0;34m(\u001b[0m\u001b[0mx2\u001b[0m\u001b[0;34m-\u001b[0m\u001b[0mx\u001b[0m\u001b[0;34m)\u001b[0m \u001b[0;34m<\u001b[0m \u001b[0mtolerance\u001b[0m\u001b[0;34m:\u001b[0m\u001b[0;34m\u001b[0m\u001b[0;34m\u001b[0m\u001b[0m\n",
            "\u001b[0;32m/usr/local/lib/python3.7/dist-packages/scipy/stats/_distn_infrastructure.py\u001b[0m in \u001b[0;36mcdf\u001b[0;34m(self, x, *args, **kwds)\u001b[0m\n\u001b[1;32m   1819\u001b[0m         \u001b[0margs\u001b[0m\u001b[0;34m,\u001b[0m \u001b[0mloc\u001b[0m\u001b[0;34m,\u001b[0m \u001b[0mscale\u001b[0m \u001b[0;34m=\u001b[0m \u001b[0mself\u001b[0m\u001b[0;34m.\u001b[0m\u001b[0m_parse_args\u001b[0m\u001b[0;34m(\u001b[0m\u001b[0;34m*\u001b[0m\u001b[0margs\u001b[0m\u001b[0;34m,\u001b[0m \u001b[0;34m**\u001b[0m\u001b[0mkwds\u001b[0m\u001b[0;34m)\u001b[0m\u001b[0;34m\u001b[0m\u001b[0;34m\u001b[0m\u001b[0m\n\u001b[1;32m   1820\u001b[0m         \u001b[0m_a\u001b[0m\u001b[0;34m,\u001b[0m \u001b[0m_b\u001b[0m \u001b[0;34m=\u001b[0m \u001b[0mself\u001b[0m\u001b[0;34m.\u001b[0m\u001b[0m_get_support\u001b[0m\u001b[0;34m(\u001b[0m\u001b[0;34m*\u001b[0m\u001b[0margs\u001b[0m\u001b[0;34m)\u001b[0m\u001b[0;34m\u001b[0m\u001b[0;34m\u001b[0m\u001b[0m\n\u001b[0;32m-> 1821\u001b[0;31m         \u001b[0mx\u001b[0m\u001b[0;34m,\u001b[0m \u001b[0mloc\u001b[0m\u001b[0;34m,\u001b[0m \u001b[0mscale\u001b[0m \u001b[0;34m=\u001b[0m \u001b[0mmap\u001b[0m\u001b[0;34m(\u001b[0m\u001b[0masarray\u001b[0m\u001b[0;34m,\u001b[0m \u001b[0;34m(\u001b[0m\u001b[0mx\u001b[0m\u001b[0;34m,\u001b[0m \u001b[0mloc\u001b[0m\u001b[0;34m,\u001b[0m \u001b[0mscale\u001b[0m\u001b[0;34m)\u001b[0m\u001b[0;34m)\u001b[0m\u001b[0;34m\u001b[0m\u001b[0;34m\u001b[0m\u001b[0m\n\u001b[0m\u001b[1;32m   1822\u001b[0m         \u001b[0margs\u001b[0m \u001b[0;34m=\u001b[0m \u001b[0mtuple\u001b[0m\u001b[0;34m(\u001b[0m\u001b[0mmap\u001b[0m\u001b[0;34m(\u001b[0m\u001b[0masarray\u001b[0m\u001b[0;34m,\u001b[0m \u001b[0margs\u001b[0m\u001b[0;34m)\u001b[0m\u001b[0;34m)\u001b[0m\u001b[0;34m\u001b[0m\u001b[0;34m\u001b[0m\u001b[0m\n\u001b[1;32m   1823\u001b[0m         \u001b[0mdtyp\u001b[0m \u001b[0;34m=\u001b[0m \u001b[0mnp\u001b[0m\u001b[0;34m.\u001b[0m\u001b[0mfind_common_type\u001b[0m\u001b[0;34m(\u001b[0m\u001b[0;34m[\u001b[0m\u001b[0mx\u001b[0m\u001b[0;34m.\u001b[0m\u001b[0mdtype\u001b[0m\u001b[0;34m,\u001b[0m \u001b[0mnp\u001b[0m\u001b[0;34m.\u001b[0m\u001b[0mfloat64\u001b[0m\u001b[0;34m]\u001b[0m\u001b[0;34m,\u001b[0m \u001b[0;34m[\u001b[0m\u001b[0;34m]\u001b[0m\u001b[0;34m)\u001b[0m\u001b[0;34m\u001b[0m\u001b[0;34m\u001b[0m\u001b[0m\n",
            "\u001b[0;32m/usr/local/lib/python3.7/dist-packages/numpy/core/_asarray.py\u001b[0m in \u001b[0;36masarray\u001b[0;34m(a, dtype, order)\u001b[0m\n\u001b[1;32m     81\u001b[0m \u001b[0;34m\u001b[0m\u001b[0m\n\u001b[1;32m     82\u001b[0m     \"\"\"\n\u001b[0;32m---> 83\u001b[0;31m     \u001b[0;32mreturn\u001b[0m \u001b[0marray\u001b[0m\u001b[0;34m(\u001b[0m\u001b[0ma\u001b[0m\u001b[0;34m,\u001b[0m \u001b[0mdtype\u001b[0m\u001b[0;34m,\u001b[0m \u001b[0mcopy\u001b[0m\u001b[0;34m=\u001b[0m\u001b[0;32mFalse\u001b[0m\u001b[0;34m,\u001b[0m \u001b[0morder\u001b[0m\u001b[0;34m=\u001b[0m\u001b[0morder\u001b[0m\u001b[0;34m)\u001b[0m\u001b[0;34m\u001b[0m\u001b[0;34m\u001b[0m\u001b[0m\n\u001b[0m\u001b[1;32m     84\u001b[0m \u001b[0;34m\u001b[0m\u001b[0m\n\u001b[1;32m     85\u001b[0m \u001b[0;34m\u001b[0m\u001b[0m\n",
            "\u001b[0;31mKeyboardInterrupt\u001b[0m: "
          ]
        }
      ]
    },
    {
      "cell_type": "code",
      "metadata": {
        "id": "ObwpXHC-zr1e",
        "colab": {
          "base_uri": "https://localhost:8080/"
        },
        "outputId": "b74e2faf-c89b-4e09-c735-448827089eb9"
      },
      "source": [
        "# coding: utf-8\n",
        "\n",
        "x=[2.1,5.3,7.3,4.7,9.2,1.2,3.1,5.3,8.3,4.8]\n",
        "N=len(x) \n",
        "for i in range(0,N-1,1):\n",
        "    for j in range(N-1,i,-1):\n",
        "        if x[j-1]>x[j]:\n",
        "            w=x[j]\n",
        "            x[j]=x[j-1]\n",
        "            x[j-1]=w\n",
        "\n",
        "for i in range(N):\n",
        "    print(x[i])"
      ],
      "execution_count": null,
      "outputs": [
        {
          "output_type": "stream",
          "name": "stdout",
          "text": [
            "1.2\n",
            "2.1\n",
            "3.1\n",
            "4.7\n",
            "4.8\n",
            "5.3\n",
            "5.3\n",
            "7.3\n",
            "8.3\n",
            "9.2\n"
          ]
        }
      ]
    },
    {
      "cell_type": "code",
      "metadata": {
        "id": "7MWfoUk6zv8F",
        "colab": {
          "base_uri": "https://localhost:8080/"
        },
        "outputId": "c14f39c3-1e35-4eb8-b88b-ab7498dc8870"
      },
      "source": [
        "# coding: utf-8                                                                                                                                                                      \n",
        "import time\n",
        "import numpy as np\n",
        "N=100\n",
        "X=np.random.rand(N)\n",
        "t_start=time.time()\n",
        "for i in range(0,N-1,1):\n",
        "    for j in range(N-1,i,-1):\n",
        "        if X[j-1]>X[j]:\n",
        "            w=X[j]\n",
        "            X[j]=X[j-1]\n",
        "            X[j-1]=w\n",
        "t_end=time.time()\n",
        "elapsed_time=t_end-t_start\n",
        "print(elapsed_time)\n"
      ],
      "execution_count": null,
      "outputs": [
        {
          "output_type": "stream",
          "name": "stdout",
          "text": [
            "0.0045871734619140625\n",
            "CPU times: user 5.46 ms, sys: 0 ns, total: 5.46 ms\n",
            "Wall time: 5.48 ms\n"
          ]
        }
      ]
    },
    {
      "cell_type": "code",
      "metadata": {
        "id": "96iYXwrYz05G",
        "colab": {
          "base_uri": "https://localhost:8080/"
        },
        "outputId": "ba328b93-e945-498e-de53-ef039f0ba8e2"
      },
      "source": [
        "# coding: utf-8                                                                                                                                                                      \n",
        "import time\n",
        "import numpy as np\n",
        "N=10000\n",
        "X=np.random.rand(N)\n",
        "t_start=time.time()\n",
        "X.sort()\n",
        "t_end=time.time()\n",
        "elapsed_time=t_end-t_start\n",
        "print(elapsed_time)\n"
      ],
      "execution_count": null,
      "outputs": [
        {
          "output_type": "stream",
          "name": "stdout",
          "text": [
            "0.0063779354095458984\n"
          ]
        }
      ]
    },
    {
      "cell_type": "code",
      "metadata": {
        "id": "L7XLM8Pxz863",
        "colab": {
          "base_uri": "https://localhost:8080/",
          "height": 34
        },
        "outputId": "8d114830-c7d3-4d96-95c7-c962403c93bc"
      },
      "source": [
        "# coding: utf-8                                                                                                                                                                   \n",
        "def square_sum(X):\n",
        "   s2=0\n",
        "   for x in X:\n",
        "       s2 += x**2\n",
        "   return s2\n",
        "# メイン部\n",
        "Y = [1,2,3,4,5,6]\n",
        "print(square_sum(Y))"
      ],
      "execution_count": null,
      "outputs": [
        {
          "output_type": "stream",
          "text": [
            "91\n"
          ],
          "name": "stdout"
        }
      ]
    },
    {
      "cell_type": "code",
      "metadata": {
        "id": "vD18aP-K0BuX",
        "colab": {
          "base_uri": "https://localhost:8080/",
          "height": 51
        },
        "outputId": "9e8cc157-1ac3-44bc-8f80-3baf8441e516"
      },
      "source": [
        "# coding: utf-8\n",
        "import math\n",
        "\n",
        "def can_form_triangle(a,b,c):\n",
        "    if a+b>c and b+c>a and c+a>b:\n",
        "        return True\n",
        "    else:\n",
        "        return False\n",
        "\n",
        "def area_of_triangle(a,b,c):\n",
        "    if can_form_triangle(a,b,c):\n",
        "        s = (a+b+c)/2 ;\n",
        "        return math.sqrt(s*(s-a)*(s-b)*(s-c))\n",
        "    else:\n",
        "        return None\n",
        "\n",
        "# メイン部\n",
        "x,y,z=map(float,input(\"三角形の辺の長さ:\").split())\n",
        "S = area_of_triangle(x,y,z)\n",
        "if S is None:    \n",
        "    print(\"三角形が構成できません\")\n",
        "else:\n",
        "    print(\"S=\",S)\n"
      ],
      "execution_count": null,
      "outputs": [
        {
          "output_type": "stream",
          "text": [
            "三角形の辺の長さ:3 4 5\n",
            "S= 6.0\n"
          ],
          "name": "stdout"
        }
      ]
    },
    {
      "cell_type": "code",
      "metadata": {
        "colab": {
          "base_uri": "https://localhost:8080/"
        },
        "id": "y_vXUR5Pe66N",
        "outputId": "acb50eca-746d-42ba-f23a-bb3c58b0c4ba"
      },
      "source": [
        "# メモリ効率の悪いクィックソートのコードの例\n",
        "import numpy as np\n",
        "\n",
        "def quick_sort(x):\n",
        "    n = len(x)\n",
        "    if n==1:\n",
        "        return x\n",
        "    pv = (x[0]+x[n-1])/2\n",
        "    xsm=[ ]\n",
        "    xlg=[ ]\n",
        "    for i in range(n):\n",
        "        if x[i] <= pv:\n",
        "            xsm.append(x[i])\n",
        "        else:\n",
        "            xlg.append(x[i])\n",
        "    return quick_sort(xsm) + quick_sort(xlg)\n",
        "\n",
        "# メイン部                                                                                                                           \n",
        "N = 10000\n",
        "X=np.random.rand(N)\n",
        "Xsorted = quick_sort(X)\n",
        "print(\"done\")"
      ],
      "execution_count": null,
      "outputs": [
        {
          "output_type": "stream",
          "name": "stdout",
          "text": [
            "done\n"
          ]
        }
      ]
    },
    {
      "cell_type": "code",
      "metadata": {
        "id": "b3F5mOBS0EZ4",
        "colab": {
          "base_uri": "https://localhost:8080/"
        },
        "outputId": "ddd61030-4c82-4705-e4f7-cc3b55abb410"
      },
      "source": [
        "import numpy as np\n",
        "\n",
        "def quick_sort(first, last, x):\n",
        "    if first==last:\n",
        "        return\n",
        "    ip=first\n",
        "    while True:\n",
        "        pv=x[ip]\n",
        "        i=first\n",
        "        j=last\n",
        "        while True:\n",
        "            while i<=last and x[i]<=pv:\n",
        "                i=i+1\n",
        "            while j>=first and x[j]>pv:\n",
        "                j=j-1\n",
        "            if i<j:\n",
        "                x[j],x[i] = x[i],x[j]\n",
        "            else:\n",
        "                break\n",
        "        ip=ip+1\n",
        "        if ip>last or j!=last:\n",
        "            break\n",
        "\n",
        "    if ip>last:\n",
        "        return\n",
        "    quick_sort(first,j,x)\n",
        "    quick_sort(i,last,x)\n",
        "\n",
        "# メイン部\n",
        "N=10000\n",
        "X=np.random.rand(N)\n",
        "quick_sort(0,N-1,X)\n",
        "print(\"done\")"
      ],
      "execution_count": null,
      "outputs": [
        {
          "output_type": "stream",
          "name": "stdout",
          "text": [
            "done\n"
          ]
        }
      ]
    },
    {
      "cell_type": "code",
      "metadata": {
        "id": "VaEZ71pj0Klw",
        "colab": {
          "base_uri": "https://localhost:8080/"
        },
        "outputId": "3c43d6df-426f-402a-bae6-94e726e257bf"
      },
      "source": [
        "# coding: utf-8\n",
        "import numpy as np\n",
        "\n",
        "X = np.loadtxt('sample-big-array.txt')\n",
        "N = len(X)\n",
        "print(N)"
      ],
      "execution_count": null,
      "outputs": [
        {
          "output_type": "stream",
          "name": "stdout",
          "text": [
            "1000000\n"
          ]
        }
      ]
    },
    {
      "cell_type": "code",
      "metadata": {
        "id": "BUQONKqZ0Zty"
      },
      "source": [
        ""
      ],
      "execution_count": null,
      "outputs": []
    }
  ]
}